{
  "nbformat": 4,
  "nbformat_minor": 0,
  "metadata": {
    "colab": {
      "provenance": [],
      "authorship_tag": "ABX9TyOBHH0Xx4o3z6Ip6jLDr/We"
    },
    "kernelspec": {
      "name": "python3",
      "display_name": "Python 3"
    },
    "language_info": {
      "name": "python"
    }
  },
  "cells": [
    {
      "cell_type": "markdown",
      "source": [
        "# Métodos"
      ],
      "metadata": {
        "id": "C5Aqz8UYhPbv"
      }
    },
    {
      "cell_type": "markdown",
      "source": [
        "## Listas"
      ],
      "metadata": {
        "id": "pwQKllMbhVyQ"
      }
    },
    {
      "cell_type": "markdown",
      "source": [
        "**Insertar al final de una lista: *append(dato)***"
      ],
      "metadata": {
        "id": "2pN8fnmkhpX8"
      }
    },
    {
      "cell_type": "code",
      "source": [
        "lista = []\n",
        "print(lista)\n",
        "lista.append(2)\n",
        "print(lista)\n",
        "lista.append(4)\n",
        "print(lista)\n",
        "lista.append(6)\n",
        "print(lista)\n",
        "lista.append(8)\n",
        "print(lista)\n",
        "lista.append(10)\n",
        "print(lista)"
      ],
      "metadata": {
        "id": "--oCvhq4hX5U"
      },
      "execution_count": null,
      "outputs": []
    },
    {
      "cell_type": "markdown",
      "source": [
        "**Insertar al inicio de una lista: *insert(posiciónCero, dato)***\n",
        "\n"
      ],
      "metadata": {
        "id": "7foTNE4ViNXw"
      }
    },
    {
      "cell_type": "code",
      "source": [
        "lista = []\n",
        "print(lista)\n",
        "lista.insert(0, 10)\n",
        "print(lista)\n",
        "lista.insert(0, 8)\n",
        "print(lista)\n",
        "lista.insert(0, 6)\n",
        "print(lista)\n",
        "lista.insert(0, 4)\n",
        "print(lista)\n",
        "lista.insert(0, 2)\n",
        "print(lista)"
      ],
      "metadata": {
        "id": "XJm62BPEiNXy"
      },
      "execution_count": null,
      "outputs": []
    },
    {
      "cell_type": "markdown",
      "source": [
        "**Eliminar al final de una lista: *pop()***\n",
        "\n"
      ],
      "metadata": {
        "id": "GtLMSFnVjE0I"
      }
    },
    {
      "cell_type": "code",
      "source": [
        "lista = [1, 3, 5, 7, 9]\n",
        "print(lista)\n",
        "\n",
        "print(f'sale: {lista.pop()}')\n",
        "print(lista)\n",
        "print(f'sale: {lista.pop()}')\n",
        "print(lista)\n",
        "print(f'sale: {lista.pop()}')\n",
        "print(lista)\n",
        "print(f'sale: {lista.pop()}')\n",
        "print(lista)\n",
        "print(f'sale: {lista.pop()}')\n",
        "print(lista)"
      ],
      "metadata": {
        "id": "gsyGDtnujE0K"
      },
      "execution_count": null,
      "outputs": []
    },
    {
      "cell_type": "markdown",
      "source": [
        "**Eliminar al inicio de una lista: *pop(posicionCero)***\n",
        "\n"
      ],
      "metadata": {
        "id": "B5M7wCZOj1dt"
      }
    },
    {
      "cell_type": "code",
      "source": [
        "lista = [1, 3, 5, 7, 9]\n",
        "print(lista)\n",
        "\n",
        "print(f'sale: {lista.pop(0)}')\n",
        "print(lista)\n",
        "print(f'sale: {lista.pop(0)}')\n",
        "print(lista)\n",
        "print(f'sale: {lista.pop(0)}')\n",
        "print(lista)\n",
        "print(f'sale: {lista.pop(0)}')\n",
        "print(lista)\n",
        "print(f'sale: {lista.pop(0)}')\n",
        "print(lista)"
      ],
      "metadata": {
        "id": "MkR1p2znj1dt"
      },
      "execution_count": null,
      "outputs": []
    },
    {
      "cell_type": "markdown",
      "source": [
        "**Eliminar un dato existente en una lista, sin importar su posición: *remove(dato)***\n",
        "\n"
      ],
      "metadata": {
        "id": "yBOfy56gkJn5"
      }
    },
    {
      "cell_type": "code",
      "source": [
        "lista = [1, 3, 5, 7, 9]\n",
        "print(lista)\n",
        "\n",
        "lista.remove(5)\n",
        "print(lista)\n",
        "lista.remove(7)\n",
        "print(lista)\n",
        "lista.remove(3)\n",
        "print(lista)\n",
        "lista.remove(9)\n",
        "print(lista)\n",
        "lista.remove(1)\n",
        "print(lista)"
      ],
      "metadata": {
        "id": "h_VtBpWYkJn6"
      },
      "execution_count": null,
      "outputs": []
    },
    {
      "cell_type": "markdown",
      "source": [
        "**Eliminar TODOS los datos de una lista: *clear()***\n",
        "\n"
      ],
      "metadata": {
        "id": "tnh0bP_qkuXB"
      }
    },
    {
      "cell_type": "code",
      "source": [
        "lista = [1, 3, 5, 7, 9]\n",
        "print(lista)\n",
        "\n",
        "lista.clear()\n",
        "print(lista)"
      ],
      "metadata": {
        "id": "UZcot7yCkuXE"
      },
      "execution_count": null,
      "outputs": []
    },
    {
      "cell_type": "markdown",
      "source": [
        "**Crear una copia de una lista: *copy()***\n",
        "\n"
      ],
      "metadata": {
        "id": "-sDtAT-Wk--O"
      }
    },
    {
      "cell_type": "code",
      "source": [
        "lista = [1, 3, 5, 7, 9]\n",
        "print(f'lista = {lista}')\n",
        "\n",
        "copia = lista.copy()\n",
        "print(f'copia = {copia}')\n",
        "\n",
        "lista.remove(5)\n",
        "print(f'lista = {lista}')\n",
        "print(f'copia = {copia}')"
      ],
      "metadata": {
        "id": "_MDWmgP3k--R"
      },
      "execution_count": null,
      "outputs": []
    },
    {
      "cell_type": "markdown",
      "source": [
        "**Ordenar los datos de una lista: *sort()***\n",
        "\n"
      ],
      "metadata": {
        "id": "-OHcyqhcmlE-"
      }
    },
    {
      "cell_type": "code",
      "source": [
        "lista = [91, -23, 54, 72, 9]\n",
        "print(f'lista = {lista}')\n",
        "\n",
        "lista.sort()\n",
        "print(f'lista = {lista}')"
      ],
      "metadata": {
        "id": "tui78tt5mlE_"
      },
      "execution_count": null,
      "outputs": []
    },
    {
      "cell_type": "markdown",
      "source": [
        "**Invertir los datos de una lista: *reverse()***\n",
        "\n"
      ],
      "metadata": {
        "id": "NHjrC_XKm-w7"
      }
    },
    {
      "cell_type": "code",
      "source": [
        "lista = [91, -23, 54, 72, 9]\n",
        "print(f'lista = {lista}')\n",
        "\n",
        "lista.reverse()\n",
        "print(f'lista = {lista}')"
      ],
      "metadata": {
        "id": "dyCMgTyCm-w9"
      },
      "execution_count": null,
      "outputs": []
    },
    {
      "cell_type": "markdown",
      "source": [
        "## Cadenas"
      ],
      "metadata": {
        "id": "5fUY1vFjhk7B"
      }
    },
    {
      "cell_type": "markdown",
      "source": [
        "**Saber si una cadena contiene sólo letras: *isalpha()***"
      ],
      "metadata": {
        "id": "9BmUAj2BoAqK"
      }
    },
    {
      "cell_type": "code",
      "source": [
        "cadena = 'a'\n",
        "print(f'{cadena} ¿contiene sólo letras? {cadena.isalpha()}')\n",
        "\n",
        "cadena = 'LaCadena'\n",
        "print(f'{cadena} ¿contiene sólo letras? {cadena.isalpha()}')\n",
        "\n",
        "cadena = 'La Cadena'\n",
        "print(f'{cadena} ¿contiene sólo letras? {cadena.isalpha()}')\n",
        "\n",
        "cadena = 'N0$0l0L3tra5'\n",
        "print(f'{cadena} ¿contiene sólo letras? {cadena.isalpha()}')"
      ],
      "metadata": {
        "id": "auBOeFhWoAqL"
      },
      "execution_count": null,
      "outputs": []
    },
    {
      "cell_type": "markdown",
      "source": [
        "**Saber si una cadena contiene sólo letras y/o números: *isalpha()***"
      ],
      "metadata": {
        "id": "_iFZub_qpgjY"
      }
    },
    {
      "cell_type": "code",
      "source": [
        "cadena = 'a'\n",
        "print(f'{cadena} ¿contiene sólo letras y/o números? {cadena.isalnum()}')\n",
        "\n",
        "cadena = 'LaCadena'\n",
        "print(f'{cadena} ¿contiene sólo letras y/o números? {cadena.isalnum()}')\n",
        "\n",
        "cadena = 'La Cadena con 1234'\n",
        "print(f'{cadena} ¿contiene sólo letras y/o números? {cadena.isalnum()}')\n",
        "\n",
        "cadena = 'LaCadenacon1234'\n",
        "print(f'{cadena} ¿contiene sólo letras y/o números? {cadena.isalnum()}')\n",
        "\n",
        "cadena = 'N0$0l0L3tra&Núm3r05'\n",
        "print(f'{cadena} ¿contiene sólo letras y/o números? {cadena.isalnum()}')"
      ],
      "metadata": {
        "id": "nkD9M9VCpgjZ"
      },
      "execution_count": null,
      "outputs": []
    },
    {
      "cell_type": "markdown",
      "source": [
        "**Saber si una cadena contiene sólo números: *isdigit()***"
      ],
      "metadata": {
        "id": "IbTprvxjqiDZ"
      }
    },
    {
      "cell_type": "code",
      "source": [
        "cadena = 'a'\n",
        "print(f'{cadena} ¿contiene sólo números? {cadena.isdigit()}')\n",
        "\n",
        "cadena = 'LaCadena'\n",
        "print(f'{cadena} ¿contiene sólo números? {cadena.isdigit()}')\n",
        "\n",
        "cadena = 'La Cadena con 1234'\n",
        "print(f'{cadena} ¿contiene sólo números? {cadena.isdigit()}')\n",
        "\n",
        "cadena = 'LaCadenacon1234'\n",
        "print(f'{cadena} ¿contiene sólo números? {cadena.isdigit()}')\n",
        "\n",
        "cadena = 'N0$0l0L3tra&Núm3r05'\n",
        "print(f'{cadena} ¿contiene sólo números? {cadena.isdigit()}')\n",
        "print()\n",
        "\n",
        "cadena = '5'\n",
        "print(f'{cadena} ¿contiene sólo números? {cadena.isdigit()}')\n",
        "\n",
        "cadena = '1234'\n",
        "print(f'{cadena} ¿contiene sólo números? {cadena.isdigit()}')\n",
        "print()\n",
        "\n",
        "cadena = '-'\n",
        "print(f'{cadena} ¿contiene sólo números? {cadena.isdigit()}')\n",
        "\n",
        "cadena = '.'\n",
        "print(f'{cadena} ¿contiene sólo números? {cadena.isdigit()}')\n",
        "\n",
        "cadena = '-1234'\n",
        "print(f'{cadena} ¿contiene sólo números? {cadena.isdigit()}')\n",
        "\n",
        "cadena = '12.34'\n",
        "print(f'{cadena} ¿contiene sólo números? {cadena.isdigit()}')"
      ],
      "metadata": {
        "id": "bo12uodRqiDa"
      },
      "execution_count": null,
      "outputs": []
    },
    {
      "cell_type": "markdown",
      "source": [
        "**Saber si una cadena contiene sólo mayúsculas: *isupper()***"
      ],
      "metadata": {
        "id": "EgPrZrNbt0ib"
      }
    },
    {
      "cell_type": "code",
      "source": [
        "cadena = 'a'\n",
        "print(f'{cadena} ¿contiene sólo mayúsculas? {cadena.isupper()}')\n",
        "\n",
        "cadena = 'LaCadena'\n",
        "print(f'{cadena} ¿contiene sólo mayúsculas? {cadena.isupper()}')\n",
        "\n",
        "cadena = 'La Cadena con 1234'\n",
        "print(f'{cadena} ¿contiene sólo mayúsculas? {cadena.isupper()}')\n",
        "\n",
        "cadena = 'LaCadenacon1234'\n",
        "print(f'{cadena} ¿contiene sólo mayúsculas? {cadena.isupper()}')\n",
        "\n",
        "cadena = 'N0$0l0L3tra&Núm3r05'\n",
        "print(f'{cadena} ¿contiene sólo mayúsculas? {cadena.isupper()}')\n",
        "print()\n",
        "\n",
        "cadena = 'A'\n",
        "print(f'{cadena} ¿contiene sólo mayúsculas? {cadena.isupper()}')\n",
        "\n",
        "cadena = 'MAYÚSCULAS'\n",
        "print(f'{cadena} ¿contiene sólo mayúsculas? {cadena.isupper()}')\n",
        "\n",
        "cadena = 'A5'\n",
        "print(f'{cadena} ¿contiene sólo mayúsculas? {cadena.isupper()}')\n",
        "\n",
        "cadena = '5A'\n",
        "print(f'{cadena} ¿contiene sólo mayúsculas? {cadena.isupper()}')\n",
        "\n",
        "cadena = '-A'\n",
        "print(f'{cadena} ¿contiene sólo mayúsculas? {cadena.isupper()}')\n",
        "\n",
        "cadena = '$0L0LETRA5&MAYÚ5CULA5'\n",
        "print(f'{cadena} ¿contiene sólo mayúsculas? {cadena.isupper()}')"
      ],
      "metadata": {
        "id": "2S8M4LM1t0ic"
      },
      "execution_count": null,
      "outputs": []
    },
    {
      "cell_type": "markdown",
      "source": [
        "**Crear una versión en minúsculas de una cadena**"
      ],
      "metadata": {
        "id": "9SUpn2j_vDlk"
      }
    },
    {
      "cell_type": "code",
      "source": [
        "original = 'UNA CADENA'\n",
        "\n",
        "copiaEnMinusculas = original.lower()\n",
        "\n",
        "print(f'original = {original}')\n",
        "print(f'copiaEnMinusculas = {copiaEnMinusculas}')"
      ],
      "metadata": {
        "id": "uThxlLiivLJa"
      },
      "execution_count": null,
      "outputs": []
    },
    {
      "cell_type": "markdown",
      "source": [
        "**Crear una versión en mayúsculas de una cadena**"
      ],
      "metadata": {
        "id": "-5iYcK9fvqUs"
      }
    },
    {
      "cell_type": "code",
      "source": [
        "original = 'otra cadena'\n",
        "\n",
        "copiaEnMayusculas = original.upper()\n",
        "\n",
        "print(f'original = {original}')\n",
        "print(f'copiaEnMayusculas = {copiaEnMayusculas}')"
      ],
      "metadata": {
        "id": "DEP44eAmv_3r"
      },
      "execution_count": null,
      "outputs": []
    },
    {
      "cell_type": "markdown",
      "source": [
        "**Crear una lista de cadenas a partir de una cadena que tiene espacios en blanco**"
      ],
      "metadata": {
        "id": "I3KKBoCiwOhD"
      }
    },
    {
      "cell_type": "code",
      "source": [
        "original = 'Una cadena con espacios en blanco'\n",
        "\n",
        "listaDeCadenas = original.split()\n",
        "\n",
        "print(f'original = {original}, tipo = {type(original)}')\n",
        "print(f'listaDeCadenas = {listaDeCadenas}, tipo = {type(listaDeCadenas)}')\n",
        "\n",
        "for pos in range( len(listaDeCadenas) ):\n",
        "  print(f'{pos}, {listaDeCadenas[pos]}, {type(listaDeCadenas[pos])}')"
      ],
      "metadata": {
        "id": "RQC7Gd3qwOhG"
      },
      "execution_count": null,
      "outputs": []
    },
    {
      "cell_type": "markdown",
      "source": [
        "**Crear una lista de cadenas a partir de una cadena que tiene *comas***"
      ],
      "metadata": {
        "id": "JJjfrHSdxAAP"
      }
    },
    {
      "cell_type": "code",
      "source": [
        "original = '11,22,33,44,55'\n",
        "\n",
        "listaDeCadenas = original.split(',')\n",
        "\n",
        "print(f'original = {original}, tipo = {type(original)}')\n",
        "print(f'listaDeCadenas = {listaDeCadenas}, tipo = {type(listaDeCadenas)}')\n",
        "\n",
        "for pos in range( len(listaDeCadenas) ):\n",
        "  print(f'{pos}, {listaDeCadenas[pos]}, {type(listaDeCadenas[pos])}')"
      ],
      "metadata": {
        "id": "_OBYifDixAAQ"
      },
      "execution_count": null,
      "outputs": []
    },
    {
      "cell_type": "markdown",
      "source": [
        "**Unir una lista de cadenas sin espacios en blanco**"
      ],
      "metadata": {
        "id": "V80ES9DL1ssz"
      }
    },
    {
      "cell_type": "code",
      "source": [
        "listaDeCadenas = ['Varias', 'cadenas', 'de', 'caracteres']\n",
        "\n",
        "cadenasUnidasEnUna = ''.join(listaDeCadenas)\n",
        "\n",
        "print(f'listaDeCadenas = {listaDeCadenas}, tipo = {type(listaDeCadenas)}')\n",
        "print(f'cadenasUnidasEnUna = {cadenasUnidasEnUna}, tipo = {type(original)}')"
      ],
      "metadata": {
        "id": "r9KML2CM1ss3"
      },
      "execution_count": null,
      "outputs": []
    },
    {
      "cell_type": "markdown",
      "source": [
        "**Unir una lista de cadenas con espacios en blanco**"
      ],
      "metadata": {
        "id": "jRFVngWc1ss4"
      }
    },
    {
      "cell_type": "code",
      "source": [
        "listaDeCadenas = ['Una', 'sola', 'cadena', 'de', 'caracteres', 'con', 'espacios', 'en', 'blanco']\n",
        "\n",
        "cadenasUnidasEnUna = ' '.join(listaDeCadenas)\n",
        "\n",
        "print(f'listaDeCadenas = {listaDeCadenas}, tipo = {type(listaDeCadenas)}')\n",
        "print(f'cadenasUnidasEnUna = {cadenasUnidasEnUna}, tipo = {type(original)}')"
      ],
      "metadata": {
        "id": "L0HoK2eC1ss4"
      },
      "execution_count": null,
      "outputs": []
    },
    {
      "cell_type": "markdown",
      "source": [
        "**Unir una lista de cadenas con otra cadena **"
      ],
      "metadata": {
        "id": "k0pKgh673IDi"
      }
    },
    {
      "cell_type": "code",
      "source": [
        "listaDeCadenas = ['Cuaderno', 'libro', 'lapiz', 'pluma', 'calculadora']\n",
        "\n",
        "cadenasUnidasEnUna = ' y '.join(listaDeCadenas)\n",
        "\n",
        "print(f'listaDeCadenas = {listaDeCadenas}, tipo = {type(listaDeCadenas)}')\n",
        "print(f'cadenasUnidasEnUna = {cadenasUnidasEnUna}, tipo = {type(original)}')"
      ],
      "metadata": {
        "id": "wDwzvp_R3IDk"
      },
      "execution_count": null,
      "outputs": []
    }
  ]
}