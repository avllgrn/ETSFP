{
  "nbformat": 4,
  "nbformat_minor": 0,
  "metadata": {
    "colab": {
      "provenance": [],
      "authorship_tag": "ABX9TyN7IOu6jc7L6JkdaOosq7tG"
    },
    "kernelspec": {
      "name": "python3",
      "display_name": "Python 3"
    },
    "language_info": {
      "name": "python"
    }
  },
  "cells": [
    {
      "cell_type": "markdown",
      "source": [
        "Definición de una clase sin atributos ni métodos:"
      ],
      "metadata": {
        "id": "f80IZVIWGUt3"
      }
    },
    {
      "cell_type": "code",
      "execution_count": null,
      "metadata": {
        "id": "X9jWrbaSIqnW"
      },
      "outputs": [],
      "source": [
        "class Punto2D:\n",
        "  pass"
      ]
    },
    {
      "cell_type": "markdown",
      "source": [
        "Construcción de instancias de la clase definida:"
      ],
      "metadata": {
        "id": "Qtyq3-2jGr7y"
      }
    },
    {
      "cell_type": "code",
      "source": [
        "A = Punto2D()\n",
        "B = Punto2D()\n",
        "C = Punto2D()\n",
        "print(type(A))\n",
        "print(type(B))\n",
        "print(type(C))"
      ],
      "metadata": {
        "id": "B3TFMgKvGxu7"
      },
      "execution_count": null,
      "outputs": []
    },
    {
      "cell_type": "markdown",
      "source": [
        "Impresión de las instancias:"
      ],
      "metadata": {
        "id": "UQ6w-ickG0Ry"
      }
    },
    {
      "cell_type": "code",
      "source": [
        "print(f\"A{A}\")\n",
        "print(f\"B{B}\")\n",
        "print(f\"C{C}\")"
      ],
      "metadata": {
        "id": "RZ5SKbyVG030"
      },
      "execution_count": null,
      "outputs": []
    },
    {
      "cell_type": "markdown",
      "source": [
        "Destrucción explícita de las instancias construidas:"
      ],
      "metadata": {
        "id": "zxwC0LItG-LM"
      }
    },
    {
      "cell_type": "code",
      "source": [
        "del A\n",
        "del B\n",
        "del C"
      ],
      "metadata": {
        "id": "-I55I1wVHBrm"
      },
      "execution_count": null,
      "outputs": []
    },
    {
      "cell_type": "markdown",
      "source": [
        "Si se agregan atributos a la clase, deben ser inicializados también:"
      ],
      "metadata": {
        "id": "gQLmc6knI8bK"
      }
    },
    {
      "cell_type": "code",
      "source": [
        "class Punto2D:\n",
        "  def __init__(self):\n",
        "      self.x = 0.0\n",
        "      self.y = 0.0\n",
        "      print(f\"Objeto construido\")"
      ],
      "metadata": {
        "id": "n2DPeEiOI0ob"
      },
      "execution_count": null,
      "outputs": []
    },
    {
      "cell_type": "markdown",
      "source": [
        "Por lo que, al construir instancias suyas, todas tendrán sus propios atributos con el mismo estado inicial:"
      ],
      "metadata": {
        "id": "Qqos1KJYJJ4f"
      }
    },
    {
      "cell_type": "code",
      "source": [
        "A = Punto2D()\n",
        "B = Punto2D()\n",
        "C = Punto2D()"
      ],
      "metadata": {
        "id": "1nss_3keJckN"
      },
      "execution_count": null,
      "outputs": []
    },
    {
      "cell_type": "markdown",
      "source": [
        "En Python, por omisión, la accesibilidad de los atributos es pública. Por lo que el acceso a los atributos de las instancias es irrestricto:"
      ],
      "metadata": {
        "id": "cq8KVY_8MfOS"
      }
    },
    {
      "cell_type": "code",
      "source": [
        "print(f\"A({A.x}, {A.y})\")\n",
        "print(f\"B({B.x}, {B.y})\")\n",
        "print(f\"C({C.x}, {C.y})\\n\")\n",
        "\n",
        "print(\"A\")\n",
        "A.x = float(input(\"Ingresa x \"))\n",
        "A.y = float(input(\"Ingresa y \"))\n",
        "print(\"B\")\n",
        "B.x = float(input(\"Ingresa B.x \"))\n",
        "B.y = float(input(\"Ingresa B.y \"))\n",
        "\n",
        "C.x = A.x + B.x\n",
        "C.y = A.y + B.y\n",
        "\n",
        "print(f\"\\nA({A.x}, {A.y})\")\n",
        "print(f\"B({B.x}, {B.y})\")\n",
        "print(f\"C({C.x}, {C.y})\")"
      ],
      "metadata": {
        "id": "eG007Wo5J3nw"
      },
      "execution_count": null,
      "outputs": []
    },
    {
      "cell_type": "markdown",
      "source": [
        "En Python, la definición tanto de un constructor como de un destructor se lleva a cabo definiendo lo métodos llamados init y del. Además, es posible definir un método llamado str que retorne la representación de una instancia como una cadena de caracteres."
      ],
      "metadata": {
        "id": "Y_LQxXT_Nyzx"
      }
    },
    {
      "cell_type": "code",
      "source": [
        "class Punto2D:\n",
        "  def __init__(self):\n",
        "      self.x = 0.0\n",
        "      self.y = 0.0\n",
        "      print(f\"Objeto {self} construido\")\n",
        "\n",
        "  def __del__(self):\n",
        "      print(f\"Objeto {self} destruido\")\n",
        "\n",
        "  def __str__(self):\n",
        "      return f\"({self.x}, {self.y})\""
      ],
      "metadata": {
        "id": "YL_82MpgMzv4"
      },
      "execution_count": null,
      "outputs": []
    },
    {
      "cell_type": "markdown",
      "source": [
        "Constructor, instanciando objetos de la clase:"
      ],
      "metadata": {
        "id": "tzexSbEoJuhc"
      }
    },
    {
      "cell_type": "code",
      "source": [
        "A = Punto2D()\n",
        "B = Punto2D()\n",
        "C = Punto2D()"
      ],
      "metadata": {
        "id": "iw-V4v0RJznE"
      },
      "execution_count": null,
      "outputs": []
    },
    {
      "cell_type": "markdown",
      "source": [
        "Impresión de los objetos:"
      ],
      "metadata": {
        "id": "cKgNkC-RJ_X9"
      }
    },
    {
      "cell_type": "code",
      "source": [
        "print(A)\n",
        "print(B)\n",
        "print(C)"
      ],
      "metadata": {
        "id": "ByUt9JQpKCy3"
      },
      "execution_count": null,
      "outputs": []
    },
    {
      "cell_type": "markdown",
      "source": [
        "Acceso directo a los atributos públicos de cada objeto:"
      ],
      "metadata": {
        "id": "aiIgH1vJKIoK"
      }
    },
    {
      "cell_type": "code",
      "source": [
        "print(\"A\")\n",
        "A.x = float(input(\"Ingresa x \"))\n",
        "A.y = float(input(\"Ingresa y \"))\n",
        "print(\"B\")\n",
        "B.x = float(input(\"Ingresa B.x \"))\n",
        "B.y = float(input(\"Ingresa B.y \"))\n",
        "\n",
        "C.x = A.x + B.x\n",
        "C.y = A.y + B.y\n",
        "\n",
        "print(f\"\\nA({A.x}, {A.y})\")\n",
        "print(f\"B({B.x}, {B.y})\")\n",
        "print(f\"C({C.x}, {C.y})\\n\")"
      ],
      "metadata": {
        "id": "sB5kWLqjKQlX"
      },
      "execution_count": null,
      "outputs": []
    },
    {
      "cell_type": "markdown",
      "source": [
        "Dado que Python sólo permite la definición de un constructor, puede definirse uno con argumentos parametrizados:"
      ],
      "metadata": {
        "id": "z7tX7HlVM1Z3"
      }
    },
    {
      "cell_type": "code",
      "source": [
        "class Punto2D:\n",
        "  def __init__(self, x=0.0, y=0.0):\n",
        "      self.x = x\n",
        "      self.y = y\n",
        "      print(f\"Objeto {self} construido\")\n",
        "\n",
        "  def __del__(self):\n",
        "      print(f\"Objeto {self} destruido\")\n",
        "\n",
        "  def __str__(self):\n",
        "      return f\"({self.x}, {self.y})\"\n",
        "\n",
        "A = Punto2D()\n",
        "B = Punto2D(1.2, 3.4)\n",
        "C = Punto2D(5.6, 7.8)\n",
        "\n",
        "print(A)\n",
        "print(B)\n",
        "print(C)\n",
        "\n",
        "del A\n",
        "del B\n",
        "del C"
      ],
      "metadata": {
        "id": "VHbi2J3KKhpH"
      },
      "execution_count": null,
      "outputs": []
    },
    {
      "cell_type": "markdown",
      "source": [
        "En caso de requerirse que los atributos fueran inaccesibles, pueden especificarse precedidos por uno o dos guiones bajos.\n",
        "Si se quita el comenterio de la línea15, la siguiente porción de código arrojaría como error que que la clase no tiene un atributo llamado x (por haberlo especificado como no público)"
      ],
      "metadata": {
        "id": "nCH1rLjBW76G"
      }
    },
    {
      "cell_type": "code",
      "source": [
        "class Punto2D:\n",
        "\n",
        "    def __init__(self, x=0.0, y=0.0):\n",
        "        self.__x = x\n",
        "        self.__y = y\n",
        "        print(f\"Objeto {self} construido\")\n",
        "\n",
        "    def __del__(self):\n",
        "        print(f\"Objeto {self} destruido\")\n",
        "\n",
        "    def __str__(self):\n",
        "        return f\"({self.__x}, {self.__y})\"\n",
        "\n",
        "A = Punto2D()\n",
        "#print(A.__x)"
      ],
      "metadata": {
        "id": "4L2DV8xTSOes"
      },
      "execution_count": null,
      "outputs": []
    },
    {
      "cell_type": "markdown",
      "source": [
        "La definición de métodos es necesaria, a pesar de la accesibilidad de los atributos."
      ],
      "metadata": {
        "id": "3HUBeyMsT-a8"
      }
    },
    {
      "cell_type": "code",
      "source": [
        "import math\n",
        "\n",
        "class Punto2D:\n",
        "\n",
        "  def __init__(self, x=0.0, y=0.0):\n",
        "      self.x = x\n",
        "      self.y = y\n",
        "      #print(f\"Objeto {self} construido\")\n",
        "\n",
        "  def __del__(self):\n",
        "      #print(f\"Objeto {self} destruido\")\n",
        "      pass\n",
        "\n",
        "  def __str__(self):\n",
        "      return f\"({self.x}, {self.y})\"\n",
        "\n",
        "  def pideleAlUsuarioTuEstado(self):\n",
        "      self.x = float(input(\"Ingresa x \"))\n",
        "      self.y = float(input(\"Ingresa y \"))\n",
        "\n",
        "  def muestraTuEstado(self):\n",
        "      print(self)\n",
        "\n",
        "  def modificaTuEstado(self,x,y):\n",
        "      self.x = x\n",
        "      self.y = y"
      ],
      "metadata": {
        "id": "fNbEyYQFUN3W"
      },
      "execution_count": null,
      "outputs": []
    },
    {
      "cell_type": "markdown",
      "source": [
        "De ste modo, pueden utilizarse las instancias tanto a través de sus atributos como de sus métodos:"
      ],
      "metadata": {
        "id": "I2YL2u2uUNQD"
      }
    },
    {
      "cell_type": "code",
      "source": [
        "A = Punto2D()\n",
        "B = Punto2D()\n",
        "\n",
        "print(\"A\")\n",
        "A.pideleAlUsuarioTuEstado()\n",
        "print(\"B\")\n",
        "B.pideleAlUsuarioTuEstado()\n",
        "\n",
        "C = Punto2D()\n",
        "C.x = A.x + B.x\n",
        "C.y = A.y + B.y\n",
        "\n",
        "D = Punto2D()\n",
        "D.x = A.x - B.x\n",
        "D.y = A.y - B.y\n",
        "\n",
        "print(\"\\n A\",end=\"\")\n",
        "A.muestraTuEstado()\n",
        "print(\"+B\",end=\"\")\n",
        "B.muestraTuEstado()\n",
        "print(\"=C\",end=\"\")\n",
        "C.muestraTuEstado()\n",
        "print()\n",
        "\n",
        "print(\"\\n A\",end=\"\")\n",
        "A.muestraTuEstado()\n",
        "print(\"-B\",end=\"\")\n",
        "B.muestraTuEstado()\n",
        "print(\"=D\",end=\"\")\n",
        "D.muestraTuEstado()\n",
        "print()\n",
        "\n",
        "distancia = math.sqrt(math.pow(A.y - B.y,2)+math.pow(A.x - B.x,2))\n",
        "print(\"\\nDistancia entre\",A,\"y\",B,\"=\",distancia)\n",
        "print()\n",
        "\n",
        "pendiente = (A.y - B.y)/(A.x - B.x)\n",
        "print(\"\\nPendiente dados\",A,\"y\",B,\"=\",pendiente)\n",
        "print()"
      ],
      "metadata": {
        "id": "6EHu0kVff0cM"
      },
      "execution_count": null,
      "outputs": []
    },
    {
      "cell_type": "markdown",
      "source": [
        "El uso de funciones que reciban y/o retornen instancias es común:"
      ],
      "metadata": {
        "id": "TbA8y_-yVzA3"
      }
    },
    {
      "cell_type": "code",
      "source": [
        "import math\n",
        "\n",
        "class Punto2D:\n",
        "\n",
        "  def __init__(self, x=0.0, y=0.0):\n",
        "      self.x = x\n",
        "      self.y = y\n",
        "      #print(f\"Objeto {self} construido\")\n",
        "\n",
        "  def __del__(self):\n",
        "      #print(f\"Objeto {self} destruido\")\n",
        "      pass\n",
        "\n",
        "  def __str__(self):\n",
        "      return f\"({self.x}, {self.y})\"\n",
        "\n",
        "  def pideleAlUsuarioTuEstado(self):\n",
        "      self.x = float(input(\"Ingresa x \"))\n",
        "      self.y = float(input(\"Ingresa y \"))\n",
        "\n",
        "  def muestraTuEstado(self):\n",
        "      print(self)\n",
        "\n",
        "  def modificaTuEstado(self,x,y):\n",
        "      self.x = x\n",
        "      self.y = y\n",
        "\n",
        "def suma(A, B):\n",
        "  S = Punto2D()\n",
        "  S.x = A.x + B.x\n",
        "  S.y = A.y + B.y\n",
        "  return S\n",
        "\n",
        "def resta(A, B):\n",
        "  R = Punto2D()\n",
        "  R.x = A.x + B.x\n",
        "  R.y = A.y + B.y\n",
        "  return R\n",
        "\n",
        "def calculaDistanciaEntre(A, B):\n",
        "  return math.sqrt(math.pow(A.y - B.y,2)+math.pow(A.x - B.x,2))\n",
        "\n",
        "def calculaPendienteDados(A, B):\n",
        "  return (A.y - B.y)/(A.x - B.x)\n",
        "\n",
        "A = Punto2D()\n",
        "B = Punto2D()\n",
        "C = Punto2D()\n",
        "D = Punto2D()\n",
        "\n",
        "print(\"A\")\n",
        "A.pideleAlUsuarioTuEstado()\n",
        "print(\"B\")\n",
        "B.pideleAlUsuarioTuEstado()\n",
        "\n",
        "C = suma(A, B)\n",
        "D = resta(A, B)\n",
        "\n",
        "distancia = calculaDistanciaEntre(A, B)\n",
        "pendiente = calculaPendienteDados(A, B)\n",
        "\n",
        "print(\"\\n A\",end=\"\")\n",
        "A.muestraTuEstado()\n",
        "print(\"+B\",end=\"\")\n",
        "B.muestraTuEstado()\n",
        "print(\"=C\",end=\"\")\n",
        "C.muestraTuEstado()\n",
        "print()\n",
        "\n",
        "print(\"\\n A\",end=\"\")\n",
        "A.muestraTuEstado()\n",
        "print(\"-B\",end=\"\")\n",
        "B.muestraTuEstado()\n",
        "print(\"=D\",end=\"\")\n",
        "D.muestraTuEstado()\n",
        "print()\n",
        "\n",
        "print(\"\\nDistancia entre\",A,\"y\",B,\"=\",distancia)\n",
        "print()\n",
        "\n",
        "print(\"\\nPendiente dados\",A,\"y\",B,\"=\",pendiente)\n",
        "print()"
      ],
      "metadata": {
        "id": "ijMJ_3XKVaFz"
      },
      "execution_count": null,
      "outputs": []
    },
    {
      "cell_type": "markdown",
      "source": [
        "Si se requiere, es posible sobrecargar operadores como el de suma y resta, con los métodos mágicos __ add __ ( ) y __ sub __( ), respectivamente:"
      ],
      "metadata": {
        "id": "KgyzKbHFtOYS"
      }
    },
    {
      "cell_type": "code",
      "source": [
        "import math\n",
        "\n",
        "class Punto2D:\n",
        "\n",
        "  def __init__(self, x=0.0, y=0.0):\n",
        "      self.x = x\n",
        "      self.y = y\n",
        "      #print(f\"Objeto {self} construido\")\n",
        "\n",
        "  def __del__(self):\n",
        "      #print(f\"Objeto {self} destruido\")\n",
        "      pass\n",
        "\n",
        "  def __str__(self):\n",
        "      return f\"({self.x}, {self.y})\"\n",
        "\n",
        "  def pideleAlUsuarioTuEstado(self):\n",
        "      self.x = float(input(\"Ingresa x \"))\n",
        "      self.y = float(input(\"Ingresa y \"))\n",
        "\n",
        "  def muestraTuEstado(self):\n",
        "      print(self)\n",
        "\n",
        "  def modificaTuEstado(self,x,y):\n",
        "      self.x = x\n",
        "      self.y = y\n",
        "\n",
        "  def __add__(self, Derecho):\n",
        "    S = Punto2D()\n",
        "    S.x = self.x + Derecho.x\n",
        "    S.y = self.y + Derecho.y\n",
        "    return S\n",
        "\n",
        "  def __sub__(self, Derecho):\n",
        "    R = Punto2D()\n",
        "    R.x = self.x - Derecho.x\n",
        "    R.y = self.y - Derecho.y\n",
        "    return R\n",
        "\n",
        "def calculaDistanciaEntre(A, B):\n",
        "  return math.sqrt(math.pow(A.y - B.y,2)+math.pow(A.x - B.x,2))\n",
        "\n",
        "def calculaPendienteDados(A, B):\n",
        "  return (A.y - B.y)/(A.x - B.x)\n",
        "\n",
        "A = Punto2D()\n",
        "B = Punto2D()\n",
        "C = Punto2D()\n",
        "D = Punto2D()\n",
        "\n",
        "print(\"A\")\n",
        "A.pideleAlUsuarioTuEstado()\n",
        "print(\"B\")\n",
        "B.pideleAlUsuarioTuEstado()\n",
        "\n",
        "C = A + B\n",
        "D = A - B\n",
        "\n",
        "distancia = calculaDistanciaEntre(A, B)\n",
        "pendiente = calculaPendienteDados(A, B)\n",
        "\n",
        "print(\"\\n A\",end=\"\")\n",
        "A.muestraTuEstado()\n",
        "print(\"+B\",end=\"\")\n",
        "B.muestraTuEstado()\n",
        "print(\"=C\",end=\"\")\n",
        "C.muestraTuEstado()\n",
        "print()\n",
        "\n",
        "print(\"\\n A\",end=\"\")\n",
        "A.muestraTuEstado()\n",
        "print(\"-B\",end=\"\")\n",
        "B.muestraTuEstado()\n",
        "print(\"=D\",end=\"\")\n",
        "D.muestraTuEstado()\n",
        "print()\n",
        "\n",
        "print(\"\\nDistancia entre\",A,\"y\",B,\"=\",distancia)\n",
        "print()\n",
        "\n",
        "print(\"\\nPendiente dados\",A,\"y\",B,\"=\",pendiente)\n",
        "print()"
      ],
      "metadata": {
        "id": "ihAaME4jsaUD"
      },
      "execution_count": null,
      "outputs": []
    }
  ]
}