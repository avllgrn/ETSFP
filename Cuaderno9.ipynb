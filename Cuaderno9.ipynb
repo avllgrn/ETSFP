{
  "nbformat": 4,
  "nbformat_minor": 0,
  "metadata": {
    "colab": {
      "provenance": [],
      "authorship_tag": "ABX9TyONEPudacJFy67uGKOJIEsh"
    },
    "kernelspec": {
      "name": "python3",
      "display_name": "Python 3"
    },
    "language_info": {
      "name": "python"
    }
  },
  "cells": [
    {
      "cell_type": "markdown",
      "source": [
        "# Funciones con cantidad variable de argumentos"
      ],
      "metadata": {
        "id": "9QCqCw-EUkUQ"
      }
    },
    {
      "cell_type": "markdown",
      "source": [
        "## Sobrecarga de funciones"
      ],
      "metadata": {
        "id": "Z3i3GmvcX8GF"
      }
    },
    {
      "cell_type": "markdown",
      "source": [
        "En Python, no existe la sobrecarga de funciones. Es decir, no es posible definir, en el mismo espacio de trabajo, dos funciones que se llamen de la misma manera, aunque la cantidad y tipo de sus argumentos sea diferente."
      ],
      "metadata": {
        "id": "wUfSLa5hUvBo"
      }
    },
    {
      "cell_type": "code",
      "execution_count": null,
      "metadata": {
        "id": "YZCgFahhUe4N"
      },
      "outputs": [],
      "source": [
        "def sumaNumeros(a, b):\n",
        "    return a + b\n",
        "\n",
        "c = sumaNumeros(2, 3)\n",
        "print(c)"
      ]
    },
    {
      "cell_type": "markdown",
      "source": [
        "En el código anterior, se define una función que recibe dos argumentos y retorna la suma de ellos.\n",
        "\n",
        "En el código siguiente, se define una función que recibe tres argumentos y retorna la suma de ellos."
      ],
      "metadata": {
        "id": "27W1yOz3VO2l"
      }
    },
    {
      "cell_type": "code",
      "source": [
        "def sumaNumeros(a, b, c):\n",
        "    return a + b + c\n",
        "\n",
        "d = sumaNumeros(4, 5, 6)\n",
        "print(d)"
      ],
      "metadata": {
        "id": "MQXtJtQuVPPV"
      },
      "execution_count": null,
      "outputs": []
    },
    {
      "cell_type": "markdown",
      "source": [
        "Sin embargo, si ambas se estuvieran definidas en el mismo espacio, sólo \"existiría\" la segunda; dejándo \"inexistente\" la primera.\n",
        "\n",
        "En el siguiente código, las líneas 7 y 8 funcionan correctamente porque la única función que \"existe\" es la que recibe tres argumentos y retorna la suma de ellos (en las líneas 4 y 5).\n",
        "\n",
        "Por otro lado, aunque previamente se definió otra función con el mismo nombre y diferente cantidad de argumentos (en las líneas 1 y 2), para Python, ésta es \"inexistente\" y las líneas 10 y 11 marcarían error si se intentara su ejecución:"
      ],
      "metadata": {
        "id": "Kxa6eCunVtOP"
      }
    },
    {
      "cell_type": "code",
      "source": [
        "def sumaNumeros(a, b):\n",
        "    return a + b\n",
        "\n",
        "def sumaNumeros(a, b, c):\n",
        "    return a + b + c\n",
        "\n",
        "d = sumaNumeros(4, 5, 6)\n",
        "print(d)\n",
        "\n",
        "# c = sumaNumeros(2, 3)\n",
        "# print(c)"
      ],
      "metadata": {
        "id": "nLWjAyieWCgA"
      },
      "execution_count": null,
      "outputs": []
    },
    {
      "cell_type": "markdown",
      "source": [
        "## *args"
      ],
      "metadata": {
        "id": "Xs-1hxq8X0jw"
      }
    },
    {
      "cell_type": "markdown",
      "source": [
        "Python permite definir funciones con una cantidad variable de argumentos, utilizando únicamente el identificador ***args** como argumento de tales funciones.\n",
        "\n",
        "En el siguiente código, se define una función cuyo único argumento es el identificador ***args**. En ella, se muestra tanto la cantidad como los datos que se reciben:"
      ],
      "metadata": {
        "id": "o62rvKXsX3pm"
      }
    },
    {
      "cell_type": "code",
      "source": [
        "def funcion(*args):\n",
        "  print(len(args))\n",
        "  print(args)\n",
        "  print()"
      ],
      "metadata": {
        "id": "Sg5NpTdyXb_x"
      },
      "execution_count": null,
      "outputs": []
    },
    {
      "cell_type": "markdown",
      "source": [
        "Nótese que dentro de los paréntesis de la función, DEBE usarse args **CON** un asterisco que lo preceda; mientras que al interior de la función, DEBE usarse args **SIN** asterisco.\n",
        "\n",
        "En el siguiente código, se invoca la función con diferentes cantidades de argumentos (inclusive sin ellos):"
      ],
      "metadata": {
        "id": "Lli4_wHLZpIW"
      }
    },
    {
      "cell_type": "code",
      "source": [
        "def funcion(*args):\n",
        "  print(len(args))\n",
        "  print(args)\n",
        "  print()\n",
        "\n",
        "funcion()\n",
        "funcion(1)\n",
        "funcion(2.3)\n",
        "funcion('cuatro')\n",
        "funcion(5, 6.7, 'ocho')"
      ],
      "metadata": {
        "id": "BowJg16xZobd"
      },
      "execution_count": null,
      "outputs": []
    },
    {
      "cell_type": "markdown",
      "source": [
        "## Tuplas"
      ],
      "metadata": {
        "id": "ckvzEvAZaxCI"
      }
    },
    {
      "cell_type": "markdown",
      "source": [
        "Dentro de las colecciones de datos que Python permite manipular, existe las tuplas. En escencia, son sumamente parecidas a las listas. Con la enorme diferencia que las listas son colecciones **mutables** de datos y las tuplas son colecciones **inmutables** de datos. Es decir, las tuplas no permiten se modificadas.\n",
        "\n",
        "Como puede notarse en las funciones que utilizan ***args**, los datos recibidos por la función son almacenados en una tupla (las listas se definen con corchetes, las tuplas con paréntesis):"
      ],
      "metadata": {
        "id": "glD_ZvskazVL"
      }
    },
    {
      "cell_type": "code",
      "source": [
        "lista = [11, 22, 32, 44, 55]\n",
        "tupla = (11, 22, 32, 44, 55)\n",
        "\n",
        "print(lista, type(lista))\n",
        "print(tupla, type(tupla))"
      ],
      "metadata": {
        "id": "b_BD9bNdas7u"
      },
      "execution_count": null,
      "outputs": []
    },
    {
      "cell_type": "markdown",
      "source": [
        "Dada su enorme parecido con las listas (tema previamente visto), es posible acceder a cada uno de los elementos recibidos en ***args**:"
      ],
      "metadata": {
        "id": "SeKu7H7TcEGM"
      }
    },
    {
      "cell_type": "code",
      "source": [
        "def funcion(*args):\n",
        "  print(f'Cantidad de argumentos = {len(args)}')\n",
        "  print(f'Argumentos = {args}')\n",
        "  for i in args:\n",
        "    print(f'Dato en tupla = {i}, tipo {type(i)}')\n",
        "  print()\n",
        "\n",
        "funcion()\n",
        "funcion(1)\n",
        "funcion(2.3)\n",
        "funcion('cuatro')\n",
        "funcion(5, 6.7, 'ocho')"
      ],
      "metadata": {
        "id": "tsefqDaLb4fG"
      },
      "execution_count": null,
      "outputs": []
    },
    {
      "cell_type": "markdown",
      "source": [
        "## Función con cantidad variable de argumentos"
      ],
      "metadata": {
        "id": "AO0zmji0eE9O"
      }
    },
    {
      "cell_type": "markdown",
      "source": [
        "Aunque no exista la sobrecarga de funciones, es posible utilizar una única función con cantidad variable de argumentos; y dependiendo de la cantidad en ***args**, realizar la operación correspondiente.\n",
        "\n",
        "Por ejemplo, si se quisiera sumar todos los posibles datos que llegaran a una función, utilizando ***args**, sólo sería necesario recorrer cada una de las posiciones de la tupla y acumularla:"
      ],
      "metadata": {
        "id": "c9sK90bceN5P"
      }
    },
    {
      "cell_type": "code",
      "source": [
        "def sumaNumeros(*args):\n",
        "  suma = 0\n",
        "  for i in args:\n",
        "    suma += i\n",
        "  return suma\n",
        "\n",
        "c = sumaNumeros(2, 3)\n",
        "print(f'Suma de datos en (2, 3) = {c}')\n",
        "\n",
        "d = sumaNumeros(4, 5, 6)\n",
        "print(f'Suma de datos en (4, 5, 6) = {d}')\n",
        "\n",
        "e = sumaNumeros(1, 2, 3, 4, 5, 6, 7, 8, 9, 10)\n",
        "print(f'Suma de datos en (1, 2, 3, 4, 5, 6, 7, 8, 9, 10) = {e}')\n"
      ],
      "metadata": {
        "id": "iznwdRpDcY2E"
      },
      "execution_count": null,
      "outputs": []
    }
  ]
}