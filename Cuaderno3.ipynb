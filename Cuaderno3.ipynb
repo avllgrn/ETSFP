{
  "nbformat": 4,
  "nbformat_minor": 0,
  "metadata": {
    "colab": {
      "provenance": [],
      "authorship_tag": "ABX9TyMmnUvlEYH0VupTP+Q+yOkS"
    },
    "kernelspec": {
      "name": "python3",
      "display_name": "Python 3"
    },
    "language_info": {
      "name": "python"
    }
  },
  "cells": [
    {
      "cell_type": "markdown",
      "source": [
        "# Funciones de usuario"
      ],
      "metadata": {
        "id": "StUKTRvHhB8m"
      }
    },
    {
      "cell_type": "markdown",
      "source": [
        "Python permite que los programadores puedan definir sus propias funciones. Éstas pueden tener o carecer tanto de tipo de retorno como de argumentos."
      ],
      "metadata": {
        "id": "tkNLOPr44VL4"
      }
    },
    {
      "cell_type": "markdown",
      "source": [
        "Para poder usar (invocar) una función es necesario primero definirla. En Python, la palabra reservada *def* sirve para expresar la definición de una función.\n",
        "\n",
        "Si una función es definida, pero no se invoca, la función no trabajará. Si se ejecuta cualquiera de las celdas siguientes, donde sólo se define una función, no se verá ninguna salida (resultado).\n",
        "\n",
        "Sólo hasta que se invoca, después de definida, se verá su salida (resultado). Esto puede notarse al ejecutar una celda donde se defina e invoque una función."
      ],
      "metadata": {
        "id": "ZTgqGl0shqgf"
      }
    },
    {
      "cell_type": "markdown",
      "source": [
        "## Funciones sin retorno, sin argumentos"
      ],
      "metadata": {
        "id": "LkylwuUphKB8"
      }
    },
    {
      "cell_type": "markdown",
      "source": [
        "Definición de una función"
      ],
      "metadata": {
        "id": "nD6nKxFIhhTP"
      }
    },
    {
      "cell_type": "code",
      "source": [
        "#Definición de una función.\n",
        "def funcionSinRetornoSinArgumentos():\n",
        "    a = 1\n",
        "    b = 2\n",
        "    c = a + b\n",
        "    print(f'a      = {a}')\n",
        "    print(f'b      = {b}')\n",
        "    print(f'a + b  = {c}')\n",
        "\n",
        "#Sin invocación, no hay saida"
      ],
      "metadata": {
        "id": "7m6_ZvMohWEh"
      },
      "execution_count": null,
      "outputs": []
    },
    {
      "cell_type": "markdown",
      "source": [
        "Definición e invocación de una función"
      ],
      "metadata": {
        "id": "8pwk6TW3iuFO"
      }
    },
    {
      "cell_type": "code",
      "source": [
        "#Definición de una función\n",
        "def funcionSinRetornoSinArgumentos():\n",
        "    a = 1\n",
        "    b = 2\n",
        "    c = a + b\n",
        "    print(f'a      = {a}')\n",
        "    print(f'b      = {b}')\n",
        "    print(f'a + b  = {c}')\n",
        "\n",
        "#Invocación de una función provaca salida\n",
        "funcionSinRetornoSinArgumentos()"
      ],
      "metadata": {
        "id": "9769MZVhizjG"
      },
      "execution_count": null,
      "outputs": []
    },
    {
      "cell_type": "markdown",
      "source": [
        "## Funciones con retorno, con argumentos"
      ],
      "metadata": {
        "id": "hHOPZZMWk1x8"
      }
    },
    {
      "cell_type": "markdown",
      "source": [
        "Definición de una función"
      ],
      "metadata": {
        "id": "dpJk9JKak1yB"
      }
    },
    {
      "cell_type": "code",
      "source": [
        "#Definición de una función.\n",
        "def funcionConArgumentosConRetorno(a, b):\n",
        "    c = a - b\n",
        "    return c\n",
        "\n",
        "#Sin invocación, no hay saida"
      ],
      "metadata": {
        "id": "jtZMGf7wk1yC"
      },
      "execution_count": null,
      "outputs": []
    },
    {
      "cell_type": "markdown",
      "source": [
        "Definición e invocación de una función"
      ],
      "metadata": {
        "id": "4xFFs9z_k1yD"
      }
    },
    {
      "cell_type": "code",
      "source": [
        "#Definición de una función\n",
        "def funcionConArgumentosConRetorno(a, b):\n",
        "    c = a - b\n",
        "    return c\n",
        "\n",
        "#Invocación de una función provaca salida\n",
        "a = 3.4\n",
        "b = 5.6\n",
        "c = funcionConArgumentosConRetorno(a, b)\n",
        "print(f'a      = {a}')\n",
        "print(f'b      = {b}')\n",
        "print(f'a - b  = {c}')"
      ],
      "metadata": {
        "id": "5fFNXs52k1yE"
      },
      "execution_count": null,
      "outputs": []
    },
    {
      "cell_type": "markdown",
      "source": [
        "## Funciones con retorno, sin argumentos"
      ],
      "metadata": {
        "id": "da0l0WQZmHFm"
      }
    },
    {
      "cell_type": "markdown",
      "source": [
        "Definición de una función"
      ],
      "metadata": {
        "id": "66jUKE7PmHFr"
      }
    },
    {
      "cell_type": "code",
      "source": [
        "#Definición de una función.\n",
        "def funcionConRetornoSinArgumentos() -> int :\n",
        "    a = 7\n",
        "    b = 8\n",
        "    c = a * b\n",
        "    print(f'a      = {a}')\n",
        "    print(f'b      = {b}')\n",
        "    return c\n",
        "\n",
        "#Sin invocación, no hay saida"
      ],
      "metadata": {
        "id": "u5qwsT1zmHFt"
      },
      "execution_count": null,
      "outputs": []
    },
    {
      "cell_type": "markdown",
      "source": [
        "Definición e invocación de una función"
      ],
      "metadata": {
        "id": "lyeJvVdfmHFu"
      }
    },
    {
      "cell_type": "code",
      "source": [
        "#Definición de una función\n",
        "def funcionConRetornoSinArgumentos() -> int :\n",
        "    a = 7\n",
        "    b = 8\n",
        "    c = a * b\n",
        "    print(f'a      = {a}')\n",
        "    print(f'b      = {b}')\n",
        "    return c\n",
        "\n",
        "#Invocación de una función provaca salida\n",
        "c = funcionConRetornoSinArgumentos()\n",
        "print(f'a * b  = {c}')"
      ],
      "metadata": {
        "id": "gBNXO2yImHFv"
      },
      "execution_count": null,
      "outputs": []
    },
    {
      "cell_type": "markdown",
      "source": [
        "## Funciones sin retorno, con argumentos"
      ],
      "metadata": {
        "id": "3Pey636QnnZr"
      }
    },
    {
      "cell_type": "markdown",
      "source": [
        "Definición de una función"
      ],
      "metadata": {
        "id": "4t5391jxnnZy"
      }
    },
    {
      "cell_type": "code",
      "source": [
        "#Definición de una función.\n",
        "def funcionSinRetornoConArgumentos(a, b) -> None:\n",
        "    c = a / b\n",
        "    print(f'a      = {a}')\n",
        "    print(f'b      = {b}')\n",
        "    print(f'a / b  = {c}')\n",
        "\n",
        "#Sin invocación, no hay saida"
      ],
      "metadata": {
        "id": "qK63Y1KQnnZz"
      },
      "execution_count": null,
      "outputs": []
    },
    {
      "cell_type": "markdown",
      "source": [
        "Definición e invocación de una función"
      ],
      "metadata": {
        "id": "Ffyo2QD7nnZz"
      }
    },
    {
      "cell_type": "code",
      "source": [
        "#Definición de una función\n",
        "def funcionSinRetornoConArgumentos(a, b) -> None:\n",
        "    c = a + b\n",
        "    print(f'a      = {a}')\n",
        "    print(f'b      = {b}')\n",
        "    print(f'a / b  = {c}')\n",
        "\n",
        "#Invocación de una función provaca salida\n",
        "funcionSinRetornoConArgumentos(9.8, 7.6)"
      ],
      "metadata": {
        "id": "yZ3KYfS1nnZ0"
      },
      "execution_count": null,
      "outputs": []
    }
  ]
}