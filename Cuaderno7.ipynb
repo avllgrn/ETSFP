{
  "nbformat": 4,
  "nbformat_minor": 0,
  "metadata": {
    "colab": {
      "provenance": [],
      "authorship_tag": "ABX9TyN4mw+HKP7lSIALLOPdcUk+"
    },
    "kernelspec": {
      "name": "python3",
      "display_name": "Python 3"
    },
    "language_info": {
      "name": "python"
    }
  },
  "cells": [
    {
      "cell_type": "markdown",
      "source": [
        "# Atributos y Propiedades"
      ],
      "metadata": {
        "id": "qzINVAsA0Qrw"
      }
    },
    {
      "cell_type": "markdown",
      "source": [
        "## Atributos"
      ],
      "metadata": {
        "id": "FnFAXMKa0XwL"
      }
    },
    {
      "cell_type": "markdown",
      "source": [
        "Los atributos de un tipo de objeto representan características particulares de éstos. Como por ejemplo, un atribut particular de los círculos es el radio. Por lo que al diseñar una clase, lo común es pensar en el radio de un círculo como uno de sus atributos:"
      ],
      "metadata": {
        "id": "qhw4qPB30dZ_"
      }
    },
    {
      "cell_type": "code",
      "execution_count": null,
      "metadata": {
        "id": "Jqx6hAPyzr-e"
      },
      "outputs": [],
      "source": [
        "class Circulo:\n",
        "    def __init__(self, radio=0.0) -> None:\n",
        "        self.radio = float(radio)\n",
        "\n",
        "C = Circulo()\n",
        "print(f'C.radio = {C.radio}\\n')\n",
        "\n",
        "C.radio = 1\n",
        "print(f'C.radio = {C.radio}\\n')"
      ]
    },
    {
      "cell_type": "markdown",
      "source": [
        "Sin embargo, dado que en Python los atributos de una clase son públicos por omisión, no existe una manera de impedir que se asigne a este atributo cualquier valor; inclusive un valor que debería considerarse inválido:"
      ],
      "metadata": {
        "id": "K-mUhxAL1RWj"
      }
    },
    {
      "cell_type": "code",
      "source": [
        "C.radio = -1\n",
        "print(f'C.radio = {C.radio}\\n')"
      ],
      "metadata": {
        "id": "uyLXhXCn1Eu4"
      },
      "execution_count": null,
      "outputs": []
    },
    {
      "cell_type": "markdown",
      "source": [
        "Aunque Python permite establecer que un atributo o método fuese no público, con uno o dos guiones bajos, de cualquier manera es posible acceder a tales atributos, y poder asignar valores tanto válidos como inválidos:"
      ],
      "metadata": {
        "id": "u-BJdLGG2Mz2"
      }
    },
    {
      "cell_type": "code",
      "source": [
        "class Circulo:\n",
        "    def __init__(self, radio=0.0) -> None:\n",
        "        self._radio = float(radio)\n",
        "\n",
        "C = Circulo()\n",
        "print(f'C._radio = {C._radio}\\n')\n",
        "\n",
        "C._radio = 1\n",
        "print(f'C._radio = {C._radio}\\n')\n",
        "\n",
        "C._radio = -1\n",
        "print(f'C._radio = {C._radio}\\n')"
      ],
      "metadata": {
        "id": "c7a8xal82AHW"
      },
      "execution_count": null,
      "outputs": []
    },
    {
      "cell_type": "markdown",
      "source": [
        "Para poder tanto tener acceso directo a los atributos como impedir que éstos puedan almacenar valores inválidos, Python provee de una herramienta sumamente útil como lo son las **propiedades** o, en inglés, *properties*"
      ],
      "metadata": {
        "id": "j3tWHpRA2_ud"
      }
    },
    {
      "cell_type": "markdown",
      "source": [
        "## Propiedades"
      ],
      "metadata": {
        "id": "i57PbboQ3olr"
      }
    },
    {
      "cell_type": "markdown",
      "source": [
        "Las propiedades son un tipo especial de atributos. Éstas son definidas con el *decorador* **@property** y son asociadas, regular y convencionalmente, con un atributo no público. Para el caso de la clase Circulo, se mantendría el atributo **_radio** y se definiría la propiedad **radio** como propia de cada instancia (por lo que debe llevar el argumento *self*):\n",
        "\n"
      ],
      "metadata": {
        "id": "f_s8oD4j4Ap_"
      }
    },
    {
      "cell_type": "code",
      "source": [
        "class Circulo:\n",
        "    def __init__(self, radio=0.0) -> None:\n",
        "        self._radio = float(radio)\n",
        "\n",
        "    @property\n",
        "    def radio(self):\n",
        "      return self._radio\n",
        "\n",
        "    @radio.setter\n",
        "    def radio(self, radio) -> None:\n",
        "        self._radio = float(radio)"
      ],
      "metadata": {
        "id": "EQ1omNRt20ms"
      },
      "execution_count": null,
      "outputs": []
    },
    {
      "cell_type": "markdown",
      "source": [
        "En la línea *3*, se define el único atributo *no público* de un objeto tipo Circulo: **_radio**.\n",
        "\n",
        "En la línea *5*, se especifica que se definirá una *propiedad*. En la línea *6*, a manera de un método con argumento *self*, se define la propiedad **radio**, que será pública (o accesible desde el exterior de cualquier instancia de Circulo) y que está asociada con el atributo *no público* **_radio**.\n",
        "\n",
        "En la línea *7*, se establece esta asociación: cada que se solicite el valor de **radio**, se retornará, en realidad, el valor del atributo *no público* **_radio**.\n",
        "\n",
        "De esta manera en que se define una *propiedad*, parecería que existe un atributo público llamado **radio**; pero, en realidad el atributo es *no público* y se llama **_radio**. Por lo tanto, de la línea *5* a la *7*, se define la manera en que se retorna el valor de la *propiedad* **radio**, cuando se requiera acceder a su valor.\n",
        "\n",
        "Por otro lado, para asignarle un valor a la propiedad, es necesario definir un método con un *decorador*, el nombre la propiedad y la palabra *setter*; como puede observarse en la línea *9*.\n",
        "\n",
        "Mientras tanto, en la línea *10*, se define un método para la propiedad, con el argumento *self* (como cualquier método de instancia) y con un argumento (**radio**) que se asignará al atributo (**_radio**), en la línea *11*.\n",
        "\n",
        "En la siguiente porción de código, se instancia un objeto, y se utiliza la *propiedad* **radio** tanto para acceder a su valor como para modificarlo, de tal manera que pareciera que la clase contara con un *atributo* público, cuando en realidad su atributo es *no público* y se llama **_radio**:"
      ],
      "metadata": {
        "id": "VhhhoJOj5TFM"
      }
    },
    {
      "cell_type": "code",
      "source": [
        "C = Circulo()\n",
        "print(f'C.radio = {C.radio}\\n')\n",
        "\n",
        "C.radio = 1\n",
        "print(f'C.radio = {C.radio}\\n')\n",
        "\n",
        "C.radio = -1\n",
        "print(f'C.radio = {C.radio}\\n')"
      ],
      "metadata": {
        "id": "esM9aqa95Th2"
      },
      "execution_count": null,
      "outputs": []
    },
    {
      "cell_type": "markdown",
      "source": [
        "Gracias a las líneas *5* - *11* de la clase Circulo, es posible tener un *atributo no público* **_radio** y accederlo a través de una *propiedad pública* **radio**.\n",
        "\n",
        "Sólo resta impedir que se asignen valores inválidos (como en la línea 7 de la porción de código anterior). Esto puede realizarse simplemente invocando un método que verifique cada valor que se asigne al atributo (como en la línea *12* de la siguiente porción de código).\n",
        "\n",
        "Por lo tanto, la clase Circulo quedaría:"
      ],
      "metadata": {
        "id": "fopJqK7f7FFA"
      }
    },
    {
      "cell_type": "code",
      "source": [
        "class Circulo:\n",
        "    def __init__(self, radio=0.0) -> None:\n",
        "        self._radio = float(radio)\n",
        "\n",
        "    @property\n",
        "    def radio(self):\n",
        "      return self._radio\n",
        "\n",
        "    @radio.setter\n",
        "    def radio(self, radio) -> None:\n",
        "        self._radio = float(radio)\n",
        "        self.verificaTuEstado()\n",
        "\n",
        "    def verificaTuEstado(self):\n",
        "      if self._radio < 0:\n",
        "        self._radio = 0"
      ],
      "metadata": {
        "id": "AdWLvlJB6-lR"
      },
      "execution_count": null,
      "outputs": []
    },
    {
      "cell_type": "markdown",
      "source": [
        "Y cualquier asignación que se hiciera a **radio** será verificada, impidiendo que guarden valores inválidos:"
      ],
      "metadata": {
        "id": "Kdw0osiBJsQo"
      }
    },
    {
      "cell_type": "code",
      "source": [
        "C = Circulo()\n",
        "print(f'C.radio = {C.radio}\\n')\n",
        "\n",
        "C.radio = 1\n",
        "print(f'C.radio = {C.radio}\\n')\n",
        "\n",
        "C.radio = -1\n",
        "print(f'C.radio = {C.radio}\\n')"
      ],
      "metadata": {
        "id": "JioWfhCfJ5pp"
      },
      "execution_count": null,
      "outputs": []
    }
  ]
}