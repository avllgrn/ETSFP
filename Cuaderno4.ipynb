{
  "nbformat": 4,
  "nbformat_minor": 0,
  "metadata": {
    "colab": {
      "provenance": [],
      "authorship_tag": "ABX9TyPjyLmEptTltuOSzZrys/g8"
    },
    "kernelspec": {
      "name": "python3",
      "display_name": "Python 3"
    },
    "language_info": {
      "name": "python"
    }
  },
  "cells": [
    {
      "cell_type": "markdown",
      "source": [
        "# Listas"
      ],
      "metadata": {
        "id": "StUKTRvHhB8m"
      }
    },
    {
      "cell_type": "markdown",
      "source": [
        "Python permite que los programadores puedan organizar conjuntos de datos en lo que llama Colecciones."
      ],
      "metadata": {
        "id": "tkNLOPr44VL4"
      }
    },
    {
      "cell_type": "markdown",
      "source": [
        "Uno de los primeros tipos de colección que puede manipularse son las listas. Éstas son, como las llama Python, *mutables*. Lo que implica es que puede mdificarse tanto el tipo de datos como la cantidad de ellos guardados en ellas."
      ],
      "metadata": {
        "id": "ZTgqGl0shqgf"
      }
    },
    {
      "cell_type": "markdown",
      "source": [
        "## Lista vacía"
      ],
      "metadata": {
        "id": "LkylwuUphKB8"
      }
    },
    {
      "cell_type": "markdown",
      "source": [
        "**Definición de una lista vacía**"
      ],
      "metadata": {
        "id": "nD6nKxFIhhTP"
      }
    },
    {
      "cell_type": "code",
      "source": [
        "#Definición de una lista vacía, sin datos.\n",
        "\n",
        "lista = []\n",
        "print(f'lista = {lista}')\n",
        "print(type(lista))"
      ],
      "metadata": {
        "id": "7m6_ZvMohWEh"
      },
      "execution_count": null,
      "outputs": []
    },
    {
      "cell_type": "markdown",
      "source": [
        "## Lista inicializada"
      ],
      "metadata": {
        "id": "XOp6MsJQaHlO"
      }
    },
    {
      "cell_type": "markdown",
      "source": [
        "**Definición de una lista con valores iniciales**"
      ],
      "metadata": {
        "id": "O_E-DUJTUjlP"
      }
    },
    {
      "cell_type": "code",
      "source": [
        "#Definición de una lista vacía, con datos iniciales.\n",
        "\n",
        "lista = [10, 20, 30, 40, 50]\n",
        "print(lista)\n",
        "print(type(lista))"
      ],
      "metadata": {
        "id": "GPLpzDwhUjlW"
      },
      "execution_count": null,
      "outputs": []
    },
    {
      "cell_type": "markdown",
      "source": [
        "## Desplazamiento en una Lista"
      ],
      "metadata": {
        "id": "PeGh6elxaO_M"
      }
    },
    {
      "cell_type": "markdown",
      "source": [
        "**Desplazarse a través de una la lista**"
      ],
      "metadata": {
        "id": "8pwk6TW3iuFO"
      }
    },
    {
      "cell_type": "markdown",
      "source": [
        "Las listas son contenedores ordenados en secuencia, desde la posición cero. Por lo que un contador puede servir para desplazarse a través de ella. Cada elemento de una lista puede ser accedido utilizando su número de posición encerrado entre corchetes.\n",
        "\n",
        "Nota: La cantidad de datos almacenados en una lista puede conocerse utilizando la función *len()*"
      ],
      "metadata": {
        "id": "UmERxDnATVXZ"
      }
    },
    {
      "cell_type": "code",
      "source": [
        "#Definición de una lista vacía, con datos iniciales.\n",
        "lista = [10, 20, 30, 40, 50]\n",
        "n = len(lista)\n",
        "\n",
        "#Desplazamiento en una lista\n",
        "for posicion in range(n):\n",
        "  print(f'posicion = {posicion}, lista[{posicion}] = {lista[posicion]}')"
      ],
      "metadata": {
        "id": "9769MZVhizjG"
      },
      "execution_count": null,
      "outputs": []
    },
    {
      "cell_type": "markdown",
      "source": [
        "## Agregar datos a una Lista"
      ],
      "metadata": {
        "id": "F5TlQgEyaVWb"
      }
    },
    {
      "cell_type": "markdown",
      "source": [
        "**Agregar un dato a la lista**"
      ],
      "metadata": {
        "id": "I12-KrQ3WUMX"
      }
    },
    {
      "cell_type": "markdown",
      "source": [
        "Para agregar un dato a una lista vacía, al final de ella, se utiliza el método *append()*"
      ],
      "metadata": {
        "id": "cHH8FDOMWUMY"
      }
    },
    {
      "cell_type": "code",
      "source": [
        "#Definición de una lista vacía, sin datos.\n",
        "lista = []\n",
        "print(f'lista = {lista}')\n",
        "\n",
        "lista.append(3)\n",
        "print(f'lista = {lista}')"
      ],
      "metadata": {
        "id": "aWP6Ue6ZWUMZ"
      },
      "execution_count": null,
      "outputs": []
    },
    {
      "cell_type": "markdown",
      "source": [
        "**Generar una lista con *n* ceros**"
      ],
      "metadata": {
        "id": "2trFep-5Jaxr"
      }
    },
    {
      "cell_type": "markdown",
      "source": [
        "Para generar una lista inicializada en ceros, agregamos uno por uno a la lista."
      ],
      "metadata": {
        "id": "qBgBoAHbJaxs"
      }
    },
    {
      "cell_type": "code",
      "source": [
        "#Definición de una lista vacía, sin datos.\n",
        "lista = []\n",
        "print(f'lista = {lista}')\n",
        "\n",
        "n = int(input('Ingresa el tamaño de la lista '))\n",
        "\n",
        "#Generación de una lista con n ceros\n",
        "for i in range(n):\n",
        "  lista.append(0)\n",
        "print(f'lista = {lista}')"
      ],
      "metadata": {
        "id": "idnEHfYtJaxt"
      },
      "execution_count": null,
      "outputs": []
    },
    {
      "cell_type": "markdown",
      "source": [
        "**Generar una lista con la secuencia de [0, n)**"
      ],
      "metadata": {
        "id": "_mqZuQOOKIUG"
      }
    },
    {
      "cell_type": "markdown",
      "source": [
        "Para generar una lista con los valores de un contador, agregamos uno por uno cada valor del contador a la lista."
      ],
      "metadata": {
        "id": "Z2d_yexGKIUI"
      }
    },
    {
      "cell_type": "code",
      "source": [
        "#Definición de una lista vacía, sin datos.\n",
        "lista = []\n",
        "print(f'lista = {lista}')\n",
        "\n",
        "n = int(input('Ingresa el tamaño de la lista '))\n",
        "\n",
        "#Generación de una lista con los valores del contador de cero a n\n",
        "for i in range(n):\n",
        "  lista.append(i)\n",
        "print(f'lista = {lista}')"
      ],
      "metadata": {
        "id": "OSn9md3-KIUJ"
      },
      "execution_count": null,
      "outputs": []
    },
    {
      "cell_type": "markdown",
      "source": [
        "**Generar una lista con *n* datos aleatorios entre [0, x)**"
      ],
      "metadata": {
        "id": "QsYg19GCMH3b"
      }
    },
    {
      "cell_type": "markdown",
      "source": [
        "Para generar una lista con datos aleatorios, agregamos uno por uno a la lista."
      ],
      "metadata": {
        "id": "Ns65b0ISMH3h"
      }
    },
    {
      "cell_type": "code",
      "source": [
        "import random\n",
        "\n",
        "#Definición de una lista vacía, sin datos.\n",
        "lista = []\n",
        "print(f'lista = {lista}')\n",
        "\n",
        "n = int(input('Ingresa el tamaño de la lista '))\n",
        "x = int(input('Ingresa x '))\n",
        "\n",
        "#Generación de una lista con n aleatorios\n",
        "for i in range(n):\n",
        "  lista.append(random.randrange(x))\n",
        "print(f'lista = {lista}')"
      ],
      "metadata": {
        "id": "UmYwrFhuMH3h"
      },
      "execution_count": null,
      "outputs": []
    },
    {
      "cell_type": "markdown",
      "source": [
        "**Generar una lista con *n* datos aleatorios entre [ini, fin)**"
      ],
      "metadata": {
        "id": "3tImVGVFMydW"
      }
    },
    {
      "cell_type": "markdown",
      "source": [
        "Para generar una lista con datos ingresados por el usuario, agregamos uno por uno a la lista."
      ],
      "metadata": {
        "id": "zoghX74cMydb"
      }
    },
    {
      "cell_type": "code",
      "source": [
        "import random\n",
        "\n",
        "#Definición de una lista vacía, sin datos.\n",
        "lista = []\n",
        "print(f'lista = {lista}')\n",
        "\n",
        "n = int(input('Ingresa el tamaño de la lista '))\n",
        "ini = int(input('Ingresa ini '))\n",
        "fin = int(input('Ingresa fin '))\n",
        "\n",
        "#Generación de una lista con n aleatorios\n",
        "for i in range(n):\n",
        "  lista.append(random.randrange(ini, fin))\n",
        "print(f'lista = {lista}')"
      ],
      "metadata": {
        "id": "cls3nAkkMydc"
      },
      "execution_count": null,
      "outputs": []
    },
    {
      "cell_type": "markdown",
      "source": [
        "## Suma de Listas"
      ],
      "metadata": {
        "id": "LlJoKYUAagXF"
      }
    },
    {
      "cell_type": "markdown",
      "source": [
        "**Sumar dos listas de *n* datos aleatorios entre [0, 100)**"
      ],
      "metadata": {
        "id": "C58vMNZFNMqL"
      }
    },
    {
      "cell_type": "markdown",
      "source": [
        "Para sumar dos listas del mismo tamaño, sumamos elemento a elemento."
      ],
      "metadata": {
        "id": "YOX7qkBvNMqN"
      }
    },
    {
      "cell_type": "code",
      "source": [
        "import random\n",
        "\n",
        "#Definición de una lista vacía, sin datos.\n",
        "lista1 = []\n",
        "lista2 = []\n",
        "\n",
        "n1 = int(input('Ingresa el tamaño de la lista1 '))\n",
        "n2 = int(input('Ingresa el tamaño de la lista2 '))\n",
        "\n",
        "if n1 != n2:\n",
        "  print('Error! No pueden sumarse')\n",
        "else:\n",
        "  n3 = n1\n",
        "  lista3 = []\n",
        "\n",
        "  #Generación de lista1 con aleatorios\n",
        "  for i in range(n1):\n",
        "    lista1.append(random.randrange(100))\n",
        "\n",
        "  #Generación de lista2 con aleatorios\n",
        "  for i in range(n2):\n",
        "    lista2.append(random.randrange(100))\n",
        "\n",
        "  #Suma elemento a elemento\n",
        "  for i in range(n3):\n",
        "    lista3.append(lista1[i] + lista2[i])\n",
        "\n",
        "  print(f'lista1 = {lista1}')\n",
        "  print(f'lista2 = {lista2}')\n",
        "  print(f'lista3 = {lista3}')"
      ],
      "metadata": {
        "id": "slnXpQzqNMqO"
      },
      "execution_count": null,
      "outputs": []
    },
    {
      "cell_type": "markdown",
      "source": [
        "## Comprensión de listas"
      ],
      "metadata": {
        "id": "A2IlSiygarXX"
      }
    },
    {
      "cell_type": "markdown",
      "source": [
        "Una de las bondades de Python es su expresividad. Con pocas instrucciones pueden ejecutarse muchas órdenes. La comprensión de listas es una de estas formas expresivas que tiene Python."
      ],
      "metadata": {
        "id": "SLcAjZm8arXY"
      }
    },
    {
      "cell_type": "markdown",
      "source": [
        "**Generar una lista con *n* ceros**"
      ],
      "metadata": {
        "id": "d0Iy0NKRarXZ"
      }
    },
    {
      "cell_type": "markdown",
      "source": [
        "Para generar una lista inicializada en ceros, escribimos dentro de los cochetes de una lista un cero y un ciclo de n iteraciones:"
      ],
      "metadata": {
        "id": "FyyYEiguarXZ"
      }
    },
    {
      "cell_type": "code",
      "source": [
        "n = int(input('Ingresa el tamaño de la lista '))\n",
        "\n",
        "#Generación de una lista con n ceros con compresión de listas\n",
        "lista = [0 for i in range(n)]\n",
        "\n",
        "print(f'lista = {lista}')"
      ],
      "metadata": {
        "id": "dMhnsPBmarXZ"
      },
      "execution_count": null,
      "outputs": []
    },
    {
      "cell_type": "markdown",
      "source": [
        "**Generar una lista con la secuencia de [0, n)**"
      ],
      "metadata": {
        "id": "n-lNh1EGccg9"
      }
    },
    {
      "cell_type": "markdown",
      "source": [
        "Para generar una lista con los valores de un contador, agregamos uno por uno cada valor del contador a la lista."
      ],
      "metadata": {
        "id": "EY1ZxjVvcchC"
      }
    },
    {
      "cell_type": "code",
      "source": [
        "n = int(input('Ingresa el tamaño de la lista '))\n",
        "\n",
        "#Generación de una lista con los valores del contador de cero a n\n",
        "lista = [i for i in range(n)]\n",
        "\n",
        "print(f'lista = {lista}')"
      ],
      "metadata": {
        "id": "-NghUOqbcchD"
      },
      "execution_count": null,
      "outputs": []
    },
    {
      "cell_type": "markdown",
      "source": [
        "**Generar una lista con *n* datos ingresados por el usuario**"
      ],
      "metadata": {
        "id": "AjwiW3k3arXa"
      }
    },
    {
      "cell_type": "markdown",
      "source": [
        "Para generar una lista con datos ingresados por el usuario, pedimos y agregamos uno por uno a la lista."
      ],
      "metadata": {
        "id": "HFcvyvGQarXa"
      }
    },
    {
      "cell_type": "code",
      "source": [
        "n = int(input('Ingresa el tamaño de la lista '))\n",
        "\n",
        "#Generación de una lista con n datos del usuario\n",
        "lista = [int(input(f'Ingresa el elemento [{i}] ')) for i in range(n)]\n",
        "\n",
        "print(f'lista = {lista}')"
      ],
      "metadata": {
        "id": "lH4TisX7arXa"
      },
      "execution_count": null,
      "outputs": []
    },
    {
      "cell_type": "markdown",
      "source": [
        "**Generar una lista con *n* datos aleatorios entre [0, x)**"
      ],
      "metadata": {
        "id": "FuQT8rPzarXa"
      }
    },
    {
      "cell_type": "markdown",
      "source": [
        "Para generar una lista con datos aleatorios, agregamos uno por uno a la lista."
      ],
      "metadata": {
        "id": "q98n9OCqarXb"
      }
    },
    {
      "cell_type": "code",
      "source": [
        "import random\n",
        "\n",
        "n = int(input('Ingresa el tamaño de la lista '))\n",
        "x = int(input('Ingresa x '))\n",
        "\n",
        "#Generación de una lista con n aleatorios\n",
        "lista = [random.randrange(x) for i in range(n)]\n",
        "\n",
        "print(f'lista = {lista}')"
      ],
      "metadata": {
        "id": "QJQtdxjUarXb"
      },
      "execution_count": null,
      "outputs": []
    },
    {
      "cell_type": "markdown",
      "source": [
        "**Generar una lista con *n* datos aleatorios entre [ini, fin)**"
      ],
      "metadata": {
        "id": "fv73DTRgarXb"
      }
    },
    {
      "cell_type": "markdown",
      "source": [
        "Para generar una lista con datos aleatorios, agregamos uno por uno a la lista."
      ],
      "metadata": {
        "id": "ndEVEo4farXc"
      }
    },
    {
      "cell_type": "code",
      "source": [
        "import random\n",
        "\n",
        "n = int(input('Ingresa el tamaño de la lista '))\n",
        "ini = int(input('Ingresa ini '))\n",
        "fin = int(input('Ingresa fin '))\n",
        "\n",
        "#Generación de una lista con n aleatorios\n",
        "lista = [random.randrange(ini, fin) for i in range(n)]\n",
        "\n",
        "print(f'lista = {lista}')"
      ],
      "metadata": {
        "id": "l1bBSp2-arXc"
      },
      "execution_count": null,
      "outputs": []
    }
  ]
}