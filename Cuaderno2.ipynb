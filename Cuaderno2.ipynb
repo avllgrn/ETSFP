{
  "nbformat": 4,
  "nbformat_minor": 0,
  "metadata": {
    "colab": {
      "provenance": [],
      "authorship_tag": "ABX9TyMzo7CAdbi7rFy+GYtCdfwV"
    },
    "kernelspec": {
      "name": "python3",
      "display_name": "Python 3"
    },
    "language_info": {
      "name": "python"
    }
  },
  "cells": [
    {
      "cell_type": "markdown",
      "source": [
        "# Estructuras condicionales"
      ],
      "metadata": {
        "id": "R4_prgslrmjP"
      }
    },
    {
      "cell_type": "markdown",
      "source": [
        "Además de operaciones aritméticas, es posible utilizar operadores relacionales."
      ],
      "metadata": {
        "id": "YYYscGjlI8aO"
      }
    },
    {
      "cell_type": "code",
      "execution_count": null,
      "metadata": {
        "id": "juoxjFpYHT3w"
      },
      "outputs": [],
      "source": [
        "a = int(input('Ingresa un numero sin parte decimal '))\n",
        "b = int(input('Ingresa otro numero sin parte decimal '))\n",
        "\n",
        "print(f'{a} <  {b} = {a < b}')\n",
        "print(f'{a} <= {b} = {a <= b}')\n",
        "print(f'{a} >  {b} = {a > b}')\n",
        "print(f'{a} >= {b} = {a >= b}')\n",
        "print(f'{a} != {b} = {a != b}')\n",
        "print(f'{a} == {b} = {a == b}')\n",
        "print()\n",
        "\n",
        "print(f'type({a} < {b})  = {type(a < b)}')\n",
        "print(f'type({a} <= {b}) = {type(a < b)}')\n",
        "print(f'type({a} > {b})  = {type(a < b)}')\n",
        "print(f'type({a} >= {b}) = {type(a < b)}')\n",
        "print(f'type({a} != {b}) = {type(a < b)}')\n",
        "print(f'type({a} == {b}) = {type(a < b)}')\n",
        "print()"
      ]
    },
    {
      "cell_type": "markdown",
      "source": [
        "Asimismo, puede ejecutarse operaciones lógicas."
      ],
      "metadata": {
        "id": "BmFgZPE8KWpA"
      }
    },
    {
      "cell_type": "code",
      "source": [
        "print(f'{False}\\tand\\t{False}\\t= {False and False}')\n",
        "print(f'{False}\\tand\\t{True}\\t= {False and True}')\n",
        "print(f'{True}\\tand\\t{False}\\t= {True and False}')\n",
        "print(f'{True}\\tand\\t{True}\\t= {True and True}')\n",
        "print()\n",
        "\n",
        "print(f'{False}\\tor\\t{False}\\t= {False or False}')\n",
        "print(f'{False}\\tor\\t{True}\\t= {False or True}')\n",
        "print(f'{True}\\tor\\t{False}\\t= {True or False}')\n",
        "print(f'{True}\\tor\\t{True}\\t= {True or True}')\n",
        "print()\n",
        "\n",
        "print(f'not {False}\\t= { not False}')\n",
        "print(f'not {True}\\t= {not True}')\n",
        "print()"
      ],
      "metadata": {
        "id": "jUMrvgTsKb1p"
      },
      "execution_count": null,
      "outputs": []
    },
    {
      "cell_type": "markdown",
      "source": [
        "Este tipo de operadores pueden utilizarse para resolver problemas que dependan de condiciones particulares."
      ],
      "metadata": {
        "id": "XynLHGNqKkCE"
      }
    },
    {
      "cell_type": "code",
      "source": [
        "genero = input('Ingresa tu genero (f/m) ')\n",
        "\n",
        "if genero == 'f':\n",
        "    print('Ingresaste f')"
      ],
      "metadata": {
        "id": "_ICIEnU_KfXQ"
      },
      "execution_count": null,
      "outputs": []
    },
    {
      "cell_type": "markdown",
      "source": [
        "Este tipo de operadores pueden utilizarse para resolver problemas que dependan de condiciones particulares."
      ],
      "metadata": {
        "id": "8qpSqm3npn_r"
      }
    },
    {
      "cell_type": "code",
      "source": [
        "edad = int(input('Ingresa tu edad '))\n",
        "if edad < 18:\n",
        "    print('El número es menor de 18')"
      ],
      "metadata": {
        "id": "y9Mg5bWApq2I"
      },
      "execution_count": null,
      "outputs": []
    },
    {
      "cell_type": "markdown",
      "source": [
        "Si existen dos posibilidades para la condición, puede también expresarse."
      ],
      "metadata": {
        "id": "EhmlaHgLPcao"
      }
    },
    {
      "cell_type": "code",
      "source": [
        "genero = input('Ingresa tu genero (f/m) ')\n",
        "\n",
        "if genero == 'f':\n",
        "    print('Ingresaste f')\n",
        "else:\n",
        "    print('NO ingresaste f')"
      ],
      "metadata": {
        "id": "ywXsbjt0K4Es"
      },
      "execution_count": null,
      "outputs": []
    },
    {
      "cell_type": "markdown",
      "source": [
        "Si existen dos posibilidades para la condición, puede también expresarse."
      ],
      "metadata": {
        "id": "6H4XfjqLp-d7"
      }
    },
    {
      "cell_type": "code",
      "source": [
        "edad = int(input('Ingresa tu edad '))\n",
        "if edad < 18:\n",
        "    print('El número es menor de 18')\n",
        "else:\n",
        "    print('El número NO es menor de 18')"
      ],
      "metadata": {
        "id": "ClKrJ4T6p_oo"
      },
      "execution_count": null,
      "outputs": []
    },
    {
      "cell_type": "markdown",
      "source": [
        "Sin embargo, también es posible expresar más de dos posibilidades para una condición."
      ],
      "metadata": {
        "id": "Wd0bdbReQD4o"
      }
    },
    {
      "cell_type": "code",
      "source": [
        "genero = input('Ingresa tu genero (f/m) ')\n",
        "\n",
        "if genero == 'f':\n",
        "    print('Ingresaste f')\n",
        "elif genero == 'F':\n",
        "    print('Ingresaste F')\n",
        "elif genero == 'm':\n",
        "    print('Ingresaste m')\n",
        "elif genero == 'M':\n",
        "    print('Ingresaste M')\n",
        "else:\n",
        "    print('NO ingresaste ni f, ni F, ni m, ni M')"
      ],
      "metadata": {
        "id": "22WZ04wpP4wG"
      },
      "execution_count": null,
      "outputs": []
    },
    {
      "cell_type": "markdown",
      "source": [
        "Sin embargo, también es posible expresar más de dos posibilidades para una condición."
      ],
      "metadata": {
        "id": "sOFU4LunqNUt"
      }
    },
    {
      "cell_type": "code",
      "source": [
        "edad = int(input('Ingresa tu edad '))\n",
        "\n",
        "if edad < 0:\n",
        "    print('El número es menor de 0')\n",
        "elif edad < 18:\n",
        "    print('El número está en el rango [0, 18)')\n",
        "elif edad < 100:\n",
        "    print('El número está en el rango [18, 100)')\n",
        "else:\n",
        "    print('El número es mayor o igual a 100')"
      ],
      "metadata": {
        "id": "ih0cvlKpqPIb"
      },
      "execution_count": null,
      "outputs": []
    },
    {
      "cell_type": "markdown",
      "source": [
        "Además de las sentencias anteriores, también puede expresarse una solución condicionada, con la sentencia match:"
      ],
      "metadata": {
        "id": "DClkgvu0UXFn"
      }
    },
    {
      "cell_type": "code",
      "source": [
        "genero = input('Ingresa tu genero (f/m) ')\n",
        "\n",
        "match genero:\n",
        "    case 'f':\n",
        "        print('Ingresaste f')\n",
        "    case 'F':\n",
        "        print('Ingresaste F')\n",
        "    case 'm':\n",
        "        print('Ingresaste m')\n",
        "    case 'M':\n",
        "        print('Ingresaste M')\n",
        "    case _:\n",
        "        print('NO ingresaste ni f, ni F, ni m, ni M')\n",
        "print()"
      ],
      "metadata": {
        "id": "IPcs_GXjQcaq"
      },
      "execution_count": null,
      "outputs": []
    },
    {
      "cell_type": "markdown",
      "source": [
        "Python también permite el manejo de excepciones. Por ejemplo, a continuación sea rroja un error por división sobre cero:"
      ],
      "metadata": {
        "id": "UTGLN2plQrZz"
      }
    },
    {
      "cell_type": "code",
      "source": [
        "2/0"
      ],
      "metadata": {
        "id": "Ev2h2x_eQ7ar"
      },
      "execution_count": null,
      "outputs": []
    },
    {
      "cell_type": "markdown",
      "source": [
        "De manera similar, la siguiente operación arroja un error de valor por calcular la raíz cuadrada de un número negativo:"
      ],
      "metadata": {
        "id": "_StKP4Q9RIm7"
      }
    },
    {
      "cell_type": "code",
      "source": [
        "import math\n",
        "math.sqrt(-9)"
      ],
      "metadata": {
        "id": "Ddi4HuKmRXiS"
      },
      "execution_count": null,
      "outputs": []
    },
    {
      "cell_type": "markdown",
      "source": [
        "Para cada uno de los errores anteriores, es posible intentar realizar el cálculo, y en caso de que se genere el error, puede controlarse, en vez de que el intérprete arroje un error. La sentencia con la que Python permite esto es try - except"
      ],
      "metadata": {
        "id": "ZpSRs27NRk1j"
      }
    },
    {
      "cell_type": "code",
      "source": [
        "try:\n",
        "  2/0\n",
        "except ZeroDivisionError:\n",
        "  print('No puede realizarse la división por indeterminación...')"
      ],
      "metadata": {
        "id": "3QjiQeKMSD8_"
      },
      "execution_count": null,
      "outputs": []
    },
    {
      "cell_type": "markdown",
      "source": [
        "Para cada uno de los errores anteriores, es posible intentar realizar el cálculo, y en caso de que se genere el error, puede controlarse, en vez de que el intérprete arroje un error. La sentencia con la que Python permite esto es try - except"
      ],
      "metadata": {
        "id": "vXE0C5e3q3zm"
      }
    },
    {
      "cell_type": "code",
      "source": [
        "try:\n",
        "  math.sqrt(-9)\n",
        "except ValueError:\n",
        "  print('No puede calcularse una raíz imaginaria...')"
      ],
      "metadata": {
        "id": "KghphoN_q5Tk"
      },
      "execution_count": null,
      "outputs": []
    },
    {
      "cell_type": "markdown",
      "source": [
        "¿Cómo programarías la solución al programa que calcula las raíces de una ecuación de segundo grado, usando try-except (para contolar los errores de raíces imaginarias o indeterminadas)? Recuerda que la con la fórmula general para la resolución de una es\n",
        "<center>$x=\\frac{-b\\pm\\sqrt{b^2-4ac}}{2a}$</center></h1>\n"
      ],
      "metadata": {
        "id": "K1mFlRmF3LMh"
      }
    },
    {
      "cell_type": "markdown",
      "source": [
        "# Estructuras cíclicas"
      ],
      "metadata": {
        "id": "Bf3P1fXHryW0"
      }
    },
    {
      "cell_type": "markdown",
      "source": [
        "Además de las estructuras condicionales, es posible expresar estructuras cíclicas. En el siguiente ejemplo, se cuenta del 0 al 10; y, con cada conteo, se muestra el contador."
      ],
      "metadata": {
        "id": "wQZM-j9mU5I_"
      }
    },
    {
      "cell_type": "code",
      "source": [
        "i = 0\n",
        "while i < 10:\n",
        "    print(i)\n",
        "    i = i+1"
      ],
      "metadata": {
        "id": "P_eN-GPcUo7d"
      },
      "execution_count": null,
      "outputs": []
    },
    {
      "cell_type": "markdown",
      "source": [
        "En el siguiente ejemplo, se cuenta del 0 al 10; y, con cada conteo, se muestra un mensaje."
      ],
      "metadata": {
        "id": "MhvzOONAsFK4"
      }
    },
    {
      "cell_type": "code",
      "source": [
        "i = 0\n",
        "while i < 10:\n",
        "    print('Hola!')\n",
        "    i += 1"
      ],
      "metadata": {
        "id": "fdgtuSGOVLDJ"
      },
      "execution_count": null,
      "outputs": []
    },
    {
      "cell_type": "markdown",
      "source": [
        "En el siguiente ejemplo, se cuenta del 10 al 0; y, con cada conteo, se muestra el contador."
      ],
      "metadata": {
        "id": "QIwRxKI9sk7c"
      }
    },
    {
      "cell_type": "code",
      "source": [
        "i = 10\n",
        "while i > 0:\n",
        "    print(i)\n",
        "    i -= 1"
      ],
      "metadata": {
        "id": "Av9Juy3qVSWm"
      },
      "execution_count": null,
      "outputs": []
    },
    {
      "cell_type": "markdown",
      "source": [
        "En el siguiente ejemplo, se cuenta del 10 al 0; y, con cada conteo, se muestra un mensaje."
      ],
      "metadata": {
        "id": "Fq7AfBSDslt3"
      }
    },
    {
      "cell_type": "code",
      "source": [
        "i = 10\n",
        "while i > 0:\n",
        "    print('Hola!')\n",
        "    i -= 1"
      ],
      "metadata": {
        "id": "oG6jmGVNVTJB"
      },
      "execution_count": null,
      "outputs": []
    },
    {
      "cell_type": "markdown",
      "source": [
        "Si el inicio, el final y los incrementos debieran ser ingresados por el usuario, es posible expresar tal contador ascendente, de la siguiente manera."
      ],
      "metadata": {
        "id": "ATJ5bcx2Vp1z"
      }
    },
    {
      "cell_type": "code",
      "source": [
        "ini = int(input('Ingresa inicio (menor a fin) '))\n",
        "fin = int(input('Ingresa fin (mayor a inicio) '))\n",
        "inc = int(input('Ingresa incremento '))\n",
        "\n",
        "i = ini\n",
        "while i < fin:\n",
        "    print(i)\n",
        "    i += inc"
      ],
      "metadata": {
        "id": "jgoG4qhPVjX2"
      },
      "execution_count": null,
      "outputs": []
    },
    {
      "cell_type": "markdown",
      "source": [
        "En caso de que el contador fuera descendente, la solución no cambia sustancialmente."
      ],
      "metadata": {
        "id": "z8K0S6S_V88Q"
      }
    },
    {
      "cell_type": "code",
      "source": [
        "ini = int(input('Ingresa inicio (mayor a fin) '))\n",
        "fin = int(input('Ingresa fin (menor a inicio) '))\n",
        "dec = int(input('Ingresa decremento '))\n",
        "\n",
        "i = ini\n",
        "while i > fin:\n",
        "    print(i)\n",
        "    i -= dec"
      ],
      "metadata": {
        "id": "IfMbMObpV0mk"
      },
      "execution_count": null,
      "outputs": []
    },
    {
      "cell_type": "markdown",
      "source": [
        "Una variación existente para expresar un ciclo, es la sentencia for. En el siguiente ejemplo, se cuenta de [0, 10) de 1 en 1."
      ],
      "metadata": {
        "id": "cTdfXLeMWS1U"
      }
    },
    {
      "cell_type": "code",
      "source": [
        "for i in range(10):\n",
        "    print(i)"
      ],
      "metadata": {
        "id": "yY4UlZ4yWHf0"
      },
      "execution_count": null,
      "outputs": []
    },
    {
      "cell_type": "markdown",
      "source": [
        "En el siguiente ejemplo, se cuenta de [10, 20) de 1 en 1."
      ],
      "metadata": {
        "id": "99VPL8xUtyy5"
      }
    },
    {
      "cell_type": "code",
      "source": [
        "for i in range(10,20):\n",
        "    print(i)"
      ],
      "metadata": {
        "id": "LHV1agCPWc7m"
      },
      "execution_count": null,
      "outputs": []
    },
    {
      "cell_type": "markdown",
      "source": [
        "En el siguiente ejemplo, se cuenta de [10, 20) de 2 en 2."
      ],
      "metadata": {
        "id": "JBO594iDt7vK"
      }
    },
    {
      "cell_type": "code",
      "source": [
        "for i in range(10,20,2):\n",
        "    print(i)"
      ],
      "metadata": {
        "id": "3hc2orl_WdhS"
      },
      "execution_count": null,
      "outputs": []
    },
    {
      "cell_type": "markdown",
      "source": [
        "En el siguiente ejemplo, se cuenta de [20, 10) de 1 en 1."
      ],
      "metadata": {
        "id": "OsWGnh6JuDmB"
      }
    },
    {
      "cell_type": "code",
      "source": [
        "for i in range(20,10,-1):\n",
        "    print(i)"
      ],
      "metadata": {
        "id": "9DbOvEZ7WeBv"
      },
      "execution_count": null,
      "outputs": []
    },
    {
      "cell_type": "markdown",
      "source": [
        "Por lo tanto, los contadores con valores ingresados por el usuario, pueden expresarse también con la sentencia for. Un contador ascendente:"
      ],
      "metadata": {
        "id": "CaYW49EMWyyW"
      }
    },
    {
      "cell_type": "code",
      "source": [
        "ini = int(input('Ingresa inicio (menor a fin) '))\n",
        "fin = int(input('Ingresa fin (mayor a inicio) '))\n",
        "inc = int(input('Ingresa incremento '))\n",
        "\n",
        "for i in range(ini, fin, inc):\n",
        "    print(i)"
      ],
      "metadata": {
        "id": "YRQAsmmuWuMp"
      },
      "execution_count": null,
      "outputs": []
    },
    {
      "cell_type": "markdown",
      "source": [
        "Un contador descendente:"
      ],
      "metadata": {
        "id": "wGbPNaXbueCA"
      }
    },
    {
      "cell_type": "code",
      "source": [
        "ini = int(input('Ingresa inicio (mayor a fin) '))\n",
        "fin = int(input('Ingresa fin (menor a inicio) '))\n",
        "dec = int(input('Ingresa decremento '))\n",
        "\n",
        "for i in range(ini, fin, -dec):\n",
        "    print(i)"
      ],
      "metadata": {
        "id": "X7rXIPxtGQIR"
      },
      "execution_count": null,
      "outputs": []
    }
  ]
}