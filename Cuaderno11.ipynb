{
  "nbformat": 4,
  "nbformat_minor": 0,
  "metadata": {
    "colab": {
      "provenance": [],
      "authorship_tag": "ABX9TyNlua6+TcYzdYnvPbX3AHpI"
    },
    "kernelspec": {
      "name": "python3",
      "display_name": "Python 3"
    },
    "language_info": {
      "name": "python"
    }
  },
  "cells": [
    {
      "cell_type": "markdown",
      "source": [
        "# Verificación de tipo de instancia"
      ],
      "metadata": {
        "id": "XcaUMqY86cYJ"
      }
    },
    {
      "cell_type": "markdown",
      "source": [
        "## type() o isinstance()"
      ],
      "metadata": {
        "id": "LgLkStUYlq0w"
      }
    },
    {
      "cell_type": "markdown",
      "source": [
        "En Python, es posible conocer tipo de un dato o el tipo del dato que almacena una variable, utilizando la función *type()*"
      ],
      "metadata": {
        "id": "p0r-XWi16ixB"
      }
    },
    {
      "cell_type": "code",
      "source": [
        "a = 1\n",
        "print(f'a={a}\\ntype(a) es\\t\\t  {type(a)}')\n",
        "print(f'type(a) == int?\\t\\t  {type(a) == int}')\n",
        "print(f'isinstance(a, int)?\\t  {isinstance(a, int)}')\n",
        "print(f'type(a) == float?\\t  {type(a) == float}')\n",
        "print(f'isinstance(a, float)?\\t  {isinstance(a, float)}')\n",
        "print(f'type(a) != float?\\t  {type(a) != float}')\n",
        "print(f'not isinstance(a, float)? {not isinstance(a, float)}')\n",
        "print()\n",
        "\n",
        "print(f'type(1) es\\t\\t  {type(1)}')\n",
        "print(f'type(1) == int?\\t\\t  {type(1) == int}')\n",
        "print(f'isinstance(1, int)?\\t  {isinstance(1, int)}')\n",
        "print(f'type(1) == float?\\t  {type(1) == float}')\n",
        "print(f'isinstance(1, float)?\\t  {isinstance(1, float)}')\n",
        "print(f'type(1) != float?\\t  {type(1) != float}')\n",
        "print(f'not isinstance(1, float)? {not isinstance(1, float)}')\n",
        "print()"
      ],
      "metadata": {
        "id": "CNxOUeV061Hx"
      },
      "execution_count": null,
      "outputs": []
    },
    {
      "cell_type": "markdown",
      "source": [
        "Esto puede aplicarse a los tipos de datos con los que trabaja Python:"
      ],
      "metadata": {
        "id": "AKVJok4q7mGQ"
      }
    },
    {
      "cell_type": "code",
      "source": [
        "b = 2.3\n",
        "print(f'b={b}\\ntype(b) es\\t\\t  {type(b)}')\n",
        "print(f'type(b) == int?\\t\\t  {type(b) == int}')\n",
        "print(f'isinstance(b, int)?\\t  {isinstance(b, int)}')\n",
        "print(f'type(b) == float?\\t  {type(b) == float}')\n",
        "print(f'isinstance(b, float)?\\t  {isinstance(b, float)}')\n",
        "print(f'type(b) != float?\\t  {type(b) != float}')\n",
        "print(f'not isinstance(b, float)? {not isinstance(b, float)}')\n",
        "print()\n",
        "\n",
        "print(f'type(2.3) es\\t\\t  {type(2.3)}')\n",
        "print(f'type(2.3) == int?\\t  {type(2.3) == int}')\n",
        "print(f'isinstance(2.3, int)?\\t  {isinstance(2.3, int)}')\n",
        "print(f'type(2.3) == float?\\t  {type(2.3) == float}')\n",
        "print(f'isinstance(2.3, float)?\\t  {isinstance(2.3, float)}')\n",
        "print(f'type(2.3) != float?\\t  {type(2.3) != float}')\n",
        "print(f'not isinstance(2.3, float)? {not isinstance(2.3, float)}')\n",
        "print()"
      ],
      "metadata": {
        "id": "xtRtDTux7srY"
      },
      "execution_count": null,
      "outputs": []
    },
    {
      "cell_type": "markdown",
      "source": [
        "Un último ejemplo:"
      ],
      "metadata": {
        "id": "tSK9uZae8GcZ"
      }
    },
    {
      "cell_type": "code",
      "source": [
        "c = 'cuatro'\n",
        "print(f'c={c}\\ntype(c) es\\t\\t  {type(c)}')\n",
        "print(f'type(c) == int?\\t\\t  {type(c) == int}')\n",
        "print(f'type(c) == float?\\t  {type(c) == float}')\n",
        "print(f'type(c) == str?\\t\\t  {type(c) == str}')\n",
        "print(f'isinstance(c, int)?\\t  {isinstance(c, int)}')\n",
        "print(f'isinstance(c, float)?\\t  {isinstance(c, float)}')\n",
        "print(f'isinstance(c, str)?\\t  {isinstance(c, str)}')\n",
        "print(f'type(c) != int?\\t\\t  {type(c) != int}')\n",
        "print(f'type(c) != float?\\t  {type(c) != float}')\n",
        "print(f'type(c) != str?\\t\\t  {type(c) != str}')\n",
        "print(f'not isinstance(c, int)?\\t  {not isinstance(c, int)}')\n",
        "print(f'not isinstance(c, float)? {not isinstance(c, float)}')\n",
        "print(f'not isinstance(c, str)?\\t  {not isinstance(c, str)}')\n",
        "print()"
      ],
      "metadata": {
        "id": "zSGv5WxB8Ipg"
      },
      "execution_count": null,
      "outputs": []
    },
    {
      "cell_type": "markdown",
      "source": [
        "## Tipos verificados de atributos"
      ],
      "metadata": {
        "id": "JyQuK29UlgHA"
      }
    },
    {
      "cell_type": "markdown",
      "source": [
        "Dado que Python permite siempre el acceso a cualquier elemento de un objeto, existe la posibilidad de que se intente la asignación de tipos de datos inadecuados para el correcto comportamiento de las instancias de una clase.\n",
        "\n",
        "Por ejemplo, dada la sigiuente clase"
      ],
      "metadata": {
        "id": "wf-71G_Clm9I"
      }
    },
    {
      "cell_type": "code",
      "source": [
        "class Punto2D:\n",
        "    def __init__(self, x=0.0, y=0.0) -> None:\n",
        "        self.x = float(x)\n",
        "        self.y = float(y)\n",
        "\n",
        "    def __del__(self):\n",
        "        pass\n",
        "\n",
        "    def __str__(self) -> str:\n",
        "        return f'({self.x}, {self.y})'\n",
        "\n",
        "    def pideleAlUsuarioTuEstado(self):\n",
        "        self.x = float(input('Dame mi x '))\n",
        "        self.y = float(input('Dame mi y '))\n",
        "\n",
        "    def muestraTuEstado(self):\n",
        "        print(self)\n",
        "\n",
        "    def modificaTuEstado(self, x, y):\n",
        "        self.x = float(x)\n",
        "        self.y = float(y)"
      ],
      "metadata": {
        "id": "P-4C00cjmbJY"
      },
      "execution_count": null,
      "outputs": []
    },
    {
      "cell_type": "markdown",
      "source": [
        "no es posible impedir que se envíen argumentos no númericos al constructor o a al método modificaTuEstado. Tampoco es posible impedir que el usuario teclee valores no numéricos para las coordenadas de un punto. Asimismo, impedir que se asignen valores no numéricos a los atributos de un objeto tipo Punto2D. En todos los casos anteriores, se arrojarían errores por parte del intérprete; como puede notarse, si se ejecutaran las siguientes líneas (si se quitaran los comentarios):"
      ],
      "metadata": {
        "id": "5CxLrtQFmq_g"
      }
    },
    {
      "cell_type": "code",
      "execution_count": null,
      "metadata": {
        "id": "bbo-X29c6VsH"
      },
      "outputs": [],
      "source": [
        "# P1 = Punto2D('uno', 'dos') # Se envían al constructor argumentos no numéricos\n",
        "\n",
        "P1 = Punto2D()\n",
        "# P1.modificaTuEstado('uno', 'dos') # Se envían al método modificaTuEstado argumentos no numéricos\n",
        "\n",
        "P1.pideleAlUsuarioTuEstado() # Si se teclean valores no numéricos, se arrojarían errores\n",
        "print(P1)"
      ]
    },
    {
      "cell_type": "markdown",
      "source": [
        "## try - except"
      ],
      "metadata": {
        "id": "Yp7fU7P5oUV4"
      }
    },
    {
      "cell_type": "markdown",
      "source": [
        "Una forma de corroborar si los datos que se asignan a los atributos puede ser con la estructura condicional *try-except*\n",
        "\n",
        "La manera de utilizarla es parecida a un *if-else*, con la diferencia de que no se escribe una condición.\n",
        "\n",
        "Lo que se desea ejecutar, se escribe dentro de la sangría de *try*; mientras que lo que se desea hacer, en caso de que se arroje un error en alguna parte del *try*, se escribe en la sangría del *except*.\n",
        "\n",
        "Por ejemplo, en la siguiente porción de código, se intenta realizar una división sobre cero, en la sección de *try*. Como esto arrojará un error de división sobre cero, en la sección de *except* (con o sin la explicación del posible tipo de error), se escribe lo que se desea en caso de que se arrojara un error en la sección de *try* (aunque aquí es seguro):"
      ],
      "metadata": {
        "id": "gtU4Wzkko4VQ"
      }
    },
    {
      "cell_type": "code",
      "source": [
        "# Sin explicación en except de qué tipo de error puede surgir ni acción a tomar en tal caso\n",
        "try:\n",
        "  1/0\n",
        "except:\n",
        "    pass\n",
        "\n",
        "# Sin explicación en except de qué tipo de error puede surgir\n",
        "try:\n",
        "  1/0\n",
        "except:\n",
        "    print('No se puede dividir sobre cero')\n",
        "\n",
        "# Con explicación en except de qué tipo de error puede surgir\n",
        "try:\n",
        "  1/0\n",
        "except(ZeroDivisionError):\n",
        "    print('No se puede dividir sobre cero')"
      ],
      "metadata": {
        "id": "oJqGubSCnv9h"
      },
      "execution_count": null,
      "outputs": []
    },
    {
      "cell_type": "markdown",
      "source": [
        "Tras ejecutar, el código anterior, puede notarse que no se arrojaron errores; sino que, en vez de arrojarlos y detener la ejecución del código, se continúa con lo que indique (o no) el *except*.\n",
        "\n",
        "De lo anterior, puede aplicarse lo mismo en la clase Punto2D; tanto en el contructor, como en los métodos pideleAlUsuarioTuEstado() y modificauEstado():"
      ],
      "metadata": {
        "id": "DWvrxHpLq6Xe"
      }
    },
    {
      "cell_type": "code",
      "source": [
        "class Punto2D:\n",
        "    def __init__(self, x=0.0, y=0.0) -> None:\n",
        "      try:\n",
        "          self.x = float(x)\n",
        "          self.y = float(y)\n",
        "      except:\n",
        "          self.x = 0.0\n",
        "          self.y = 0.0\n",
        "\n",
        "    def __del__(self):\n",
        "        pass\n",
        "\n",
        "    def __str__(self) -> str:\n",
        "        return f'({self.x}, {self.y})'\n",
        "\n",
        "    def pideleAlUsuarioTuEstado(self):\n",
        "      try:\n",
        "        self.x = float(input('Dame mi x '))\n",
        "      except:\n",
        "          self.x = 0.0\n",
        "      try:\n",
        "        self.y = float(input('Dame mi y '))\n",
        "      except:\n",
        "          self.y = 0.0\n",
        "\n",
        "    def muestraTuEstado(self):\n",
        "        print(self)\n",
        "\n",
        "    def modificaTuEstado(self, x, y):\n",
        "      try:\n",
        "          self.x = float(x)\n",
        "          self.y = float(y)\n",
        "      except:\n",
        "          self.x = 0.0\n",
        "          self.y = 0.0\n",
        "\n",
        "P1 = Punto2D('uno', 'dos') #Ya no se arroja error, ni se detiene el programa, si se envían al constructor argumentos no numéricos\n",
        "print(f'P1{P1}')\n",
        "\n",
        "P2 = Punto2D()\n",
        "P2.modificaTuEstado('uno', 'dos') #Ya no se arroja error, ni se detiene el programa, si se envían al método modificaTuEstado argumentos no numéricos\n",
        "print(f'P2{P2}')\n",
        "\n",
        "P1.pideleAlUsuarioTuEstado() #Ya no se arroja error, ni se detiene el programa, si se teclean valores no numéricos\n",
        "print(f'P1{P1}')"
      ],
      "metadata": {
        "id": "nC3FiSBHq4Hg"
      },
      "execution_count": null,
      "outputs": []
    },
    {
      "cell_type": "markdown",
      "source": [
        "Sin embargo, aun se tiene el \"problema\" de la asignación directa de valores a los atributos:"
      ],
      "metadata": {
        "id": "Qq8VkgvctLK_"
      }
    },
    {
      "cell_type": "code",
      "source": [
        "P3 = Punto2D()\n",
        "P3.x = 'tres'\n",
        "P3.y = 'cuatro'\n",
        "print(f'P3{P3}')"
      ],
      "metadata": {
        "id": "eGqkDDROsedw"
      },
      "execution_count": null,
      "outputs": []
    },
    {
      "cell_type": "markdown",
      "source": [
        "Pero, eso puede solucionarse con propiedades que incluyan *try-except*, como se vio anteriormente:"
      ],
      "metadata": {
        "id": "OaBQJH12tkaN"
      }
    },
    {
      "cell_type": "markdown",
      "source": [
        "## Porperty"
      ],
      "metadata": {
        "id": "DJlZ6h-WtrTH"
      }
    },
    {
      "cell_type": "code",
      "source": [
        "class Punto2D:\n",
        "    def __init__(self, x=0.0, y=0.0) -> None:\n",
        "      try:\n",
        "          self._x = float(x)\n",
        "          self._y = float(y)\n",
        "      except:\n",
        "          self._x = 0.0\n",
        "          self._y = 0.0\n",
        "\n",
        "    def __del__(self):\n",
        "        pass\n",
        "\n",
        "    @property\n",
        "    def x(self):\n",
        "      return self._x\n",
        "\n",
        "    @x.setter\n",
        "    def x(self, x):\n",
        "      try:\n",
        "          self._x = float(x)\n",
        "      except:\n",
        "          self._x = 0.0\n",
        "\n",
        "    @property\n",
        "    def y(self):\n",
        "      return self._y\n",
        "\n",
        "    @x.setter\n",
        "    def y(self, y):\n",
        "      try:\n",
        "          self._y = float(y)\n",
        "      except:\n",
        "          self._x = 0.0\n",
        "\n",
        "    def __str__(self) -> str:\n",
        "        return f'({self._x}, {self._y})'\n",
        "\n",
        "    def pideleAlUsuarioTuEstado(self):\n",
        "      try:\n",
        "        self._x = float(input('Dame mi x '))\n",
        "      except:\n",
        "          self._x = 0.0\n",
        "      try:\n",
        "        self._y = float(input('Dame mi y '))\n",
        "      except:\n",
        "          self._y = 0.0\n",
        "\n",
        "    def muestraTuEstado(self):\n",
        "        print(self)\n",
        "\n",
        "    def modificaTuEstado(self, x, y):\n",
        "      try:\n",
        "          self._x = float(x)\n",
        "          self._y = float(y)\n",
        "      except:\n",
        "          self._x = 0.0\n",
        "          self._y = 0.0\n",
        "\n",
        "P1 = Punto2D('uno', 'dos') #Ya no se arroja error, ni se detiene el programa, si se envían al constructor argumentos no numéricos\n",
        "print(f'P1{P1}')\n",
        "\n",
        "P2 = Punto2D()\n",
        "P2.modificaTuEstado('uno', 'dos') #Ya no se arroja error, ni se detiene el programa, si se envían al método modificaTuEstado argumentos no numéricos\n",
        "print(f'P2{P2}')\n",
        "\n",
        "P1.pideleAlUsuarioTuEstado() #Ya no se arroja error, ni se detiene el programa, si se teclean valores no numéricos\n",
        "print(f'P1{P1}')\n",
        "\n",
        "P3 = Punto2D()\n",
        "P3.x = 'tres'#No se arroja error, ni se detiene el programa, si se asignan valores no numéricos, se arrojarían errores\n",
        "P3.y = 'cuatro'#No se arroja error, ni se detiene el programa, si se asignan valores no numéricos, se arrojarían errores\n",
        "print(f'P3{P3}')"
      ],
      "metadata": {
        "id": "_rKsDgnQtilA"
      },
      "execution_count": null,
      "outputs": []
    },
    {
      "cell_type": "markdown",
      "source": [
        "## Verificación para composición"
      ],
      "metadata": {
        "id": "Rj6QrLcJ-rkq"
      }
    },
    {
      "cell_type": "markdown",
      "source": [
        "Cuando se implementan clases compuestas, es necesario corroborar que las asignaciones a sus atributos, instancias de otras clases, sean las adecuadas. Por ejemplo, dada la siguiente clase, donde se utilizan como atributos, instancias de la clase Punto2D:"
      ],
      "metadata": {
        "id": "f1JinPMH-0Go"
      }
    },
    {
      "cell_type": "code",
      "source": [
        "class CirculoP:\n",
        "    def __init__(self, *args) -> None:\n",
        "        cantidad = len(args)\n",
        "        if cantidad == 0:\n",
        "            self.C = Punto2D()\n",
        "            self.P = Punto2D()\n",
        "        elif cantidad == 2:\n",
        "            self.C = args[0]\n",
        "            self.P = args[1]\n",
        "        else:\n",
        "            self.C = Punto2D(args[0], args[1])\n",
        "            self.P = Punto2D(args[2], args[3])\n",
        "\n",
        "    def __del__(self) -> None:\n",
        "        pass\n",
        "\n",
        "    def __str__(self) -> str:\n",
        "        datos = f'C{self.C}\\n'\n",
        "        datos += f'P{self.P}\\n'\n",
        "        return datos\n",
        "\n",
        "    def pideleAlUsuarioTuEstado(self):\n",
        "        print('Dame mi C')\n",
        "        self.C.pideleAlUsuarioTuEstado()\n",
        "        print('Dame mi P')\n",
        "        self.P.pideleAlUsuarioTuEstado()\n",
        "\n",
        "    def muestraTuEstado(self):\n",
        "        print(self)\n",
        "\n",
        "    def modificaTuEstado(self, *args):\n",
        "        cantidad = len(args)\n",
        "        if cantidad == 2:\n",
        "            self.C = args[0]\n",
        "            self.P = args[1]\n",
        "        else:\n",
        "            self.C = Punto2D(args[0], args[1])\n",
        "            self.P = Punto2D(args[2], args[3])"
      ],
      "metadata": {
        "id": "vDK8DDmk_GI9"
      },
      "execution_count": null,
      "outputs": []
    },
    {
      "cell_type": "markdown",
      "source": [
        "El siguiente código, instancia y utiliza correctamente objetos de esta clase:"
      ],
      "metadata": {
        "id": "FRfrfkZHAGGk"
      }
    },
    {
      "cell_type": "code",
      "source": [
        "Q1 = CirculoP()\n",
        "print(f'Q1\\n{Q1}')\n",
        "\n",
        "A = Punto2D(1,1)\n",
        "B = Punto2D(2,2)\n",
        "Q2 = CirculoP(A, B)\n",
        "print(f'Q2')\n",
        "Q2.muestraTuEstado()\n",
        "\n",
        "Q3 = CirculoP(5.5, 6.6, 7.7, 8.8)\n",
        "print(f'Q3')\n",
        "Q3.muestraTuEstado()\n",
        "\n",
        "print(f'Q1')\n",
        "Q1.pideleAlUsuarioTuEstado()\n",
        "print(f'Q1\\n{Q1}')\n",
        "\n",
        "Q1.modificaTuEstado(Q2.C, Q3.P)\n",
        "print(f'Q1\\n{Q1}')\n",
        "\n",
        "Q1.modificaTuEstado(Q2.C.x, Q3.C.x, Q3.P.y, Q2.P.y)\n",
        "print(f'Q1\\n{Q1}')"
      ],
      "metadata": {
        "id": "ozbh1KS7ADTk"
      },
      "execution_count": null,
      "outputs": []
    },
    {
      "cell_type": "markdown",
      "source": [
        "Incluso un programa que intentara utilizar inadecuadamente las coordenadas de los atributos, estarían validados por la manera en que ya se mejoró la clase Punto2D:"
      ],
      "metadata": {
        "id": "Hm7om-UhBd5e"
      }
    },
    {
      "cell_type": "code",
      "source": [
        "Q1 = CirculoP()\n",
        "print(f'Q1')\n",
        "\n",
        "A = Punto2D('uno', 'uno')\n",
        "B = Punto2D('dos', 'dos')\n",
        "Q2 = CirculoP(A, B)\n",
        "print(f'Q2')\n",
        "Q2.muestraTuEstado()\n",
        "\n",
        "Q3 = CirculoP('cinco.cinco', 'seis.seis', 'siete.siete', 'ocho.ocho')\n",
        "print(f'Q3')\n",
        "Q3.muestraTuEstado()\n",
        "\n",
        "print(f'Q1')\n",
        "Q1.pideleAlUsuarioTuEstado() # Si se teclearan cadenas, no habría errores arrojados\n",
        "print(f'Q1\\n{Q1}')\n",
        "\n",
        "Q1.modificaTuEstado(Q2.C, Q3.P)\n",
        "print(f'Q1\\n{Q1}')\n",
        "\n",
        "Q1.modificaTuEstado('uno', 'cinco.cinco', 'ocho.ocho', 'uno')\n",
        "print(f'Q1\\n{Q1}')"
      ],
      "metadata": {
        "id": "BlxNH1LYB7Tg"
      },
      "execution_count": null,
      "outputs": []
    },
    {
      "cell_type": "markdown",
      "source": [
        "Sin embargo, los atributos en sí de los objetos CirculoP, no tienen validación y cualquier asignación a ellos (en cualquier método o de manera directa) provocaría un comportamiento inadecuado y arrojaría errores. Como en el caso de usar incluso el propio método pideleAlUsuarioTuEstado() de Q1 y Q2 (pues, no son Punto2D ni tienen dos coordenadas), como en las líneas del siguiente código"
      ],
      "metadata": {
        "id": "m62mL0KcCsSY"
      }
    },
    {
      "cell_type": "code",
      "source": [
        "A = 'Punto2D(1,1)'  # No es objeto tipo Punto2D, sino una cadena\n",
        "B = (2,2)           # No es objeto tipo Punto2D, sino una tupla\n",
        "Q2 = CirculoP(A, B) # El constructor asignaría estos tipos de datos a C y P, respectivamente\n",
        "print(f'Q2\\n{Q2}')\n",
        "\n",
        "Q1 = CirculoP()\n",
        "print(f'Q1\\n{Q1}')\n",
        "Q1.modificaTuEstado('Q2.C', Q3.P)# Los atributos de Q1 ya no serían tipo Punto2D, sino una cadena y una tupla\n",
        "print(f'Q1\\n{Q1}')\n",
        "\n",
        "Q3 = CirculoP()\n",
        "print(f'Q3\\n{Q3}')\n",
        "Q3.C = 'Q1.C'       # El atributo de Q3 ya no serían tipo Punto2D, sino una tupla\n",
        "Q3.P =  (4.5, 6.7)  # El atributo de Q3 ya no serían tipo Punto2D, sino una cadena\n",
        "print(f'Q3\\n{Q3}')\n",
        "\n",
        "# Q1.pideleAlUsuarioTuEstado()  # El método arroja error porque no tiene atributos Punto2D\n",
        "# Q2.pideleAlUsuarioTuEstado()  # El método arroja error porque no tiene atributos Punto2D\n",
        "# print(f'Q1.P.x = {Q1.P.x}')   # El atributo P no tiene x\n",
        "# print(f'Q1.C.y = {Q1.C.y}')   # El atributo C no tiene y\n",
        "# print(f'Q2.P.x = {Q2.P.x}')   # El atributo P no tiene x\n",
        "# print(f'Q2.C.y = {Q2.C.y}')   # El atributo C no tiene y\n",
        "# print(f'Q3.P.x = {Q3.P.x}')   # El atributo P no tiene x\n",
        "# print(f'Q4.C.y = {Q3.C.y}')   # El atributo C no tiene y"
      ],
      "metadata": {
        "id": "1ZOYVTksCkqp"
      },
      "execution_count": null,
      "outputs": []
    },
    {
      "cell_type": "markdown",
      "source": [
        "Por lo tanto, para evitar este tipo de inconvenientes, se necesita utilizar tanto isinstance() como propiedades para los atributos de la clase CirculoP:"
      ],
      "metadata": {
        "id": "XIX9BKeeHW4W"
      }
    },
    {
      "cell_type": "code",
      "source": [
        "class CirculoP:\n",
        "    def __init__(self, *args) -> None:\n",
        "        cantidad = len(args)\n",
        "        if cantidad == 2 and isinstance(args[0],Punto2D) and isinstance(args[1],Punto2D):\n",
        "            self._C = args[0]\n",
        "            self._P = args[1]\n",
        "        elif cantidad == 4:\n",
        "            self._C = Punto2D(args[0], args[1])\n",
        "            self._P = Punto2D(args[2], args[3])\n",
        "        else:\n",
        "            self._C = Punto2D()\n",
        "            self._P = Punto2D()\n",
        "\n",
        "    def __del__(self) -> None:\n",
        "        pass\n",
        "\n",
        "    @property\n",
        "    def C(self):\n",
        "        return self._C\n",
        "\n",
        "    @C.setter\n",
        "    def C(self, C):\n",
        "        if isinstance(C, Punto2D):\n",
        "            self._C = C\n",
        "        else:\n",
        "            self._C = Punto2D()\n",
        "\n",
        "    @property\n",
        "    def P(self):\n",
        "        return self._P\n",
        "\n",
        "    @P.setter\n",
        "    def P(self, P):\n",
        "        if isinstance(P, Punto2D):\n",
        "            self._P = P\n",
        "        else:\n",
        "            self._P = Punto2D()\n",
        "\n",
        "    def __str__(self) -> str:\n",
        "        datos = f'C{self._C}\\n'\n",
        "        datos += f'P{self._P}\\n'\n",
        "        return datos\n",
        "\n",
        "    def pideleAlUsuarioTuEstado(self):\n",
        "        print('Dame mi C')\n",
        "        self._C.pideleAlUsuarioTuEstado()\n",
        "        print('Dame mi P')\n",
        "        self._P.pideleAlUsuarioTuEstado()\n",
        "\n",
        "    def muestraTuEstado(self):\n",
        "        print(self)\n",
        "\n",
        "    def modificaTuEstado(self, *args):\n",
        "        cantidad = len(args)\n",
        "        if cantidad == 2 and isinstance(args[0],Punto2D) and isinstance(args[1],Punto2D):\n",
        "            self._C = args[0]\n",
        "            self._P = args[1]\n",
        "        elif cantidad == 4:\n",
        "            self._C = Punto2D(args[0], args[1])\n",
        "            self._P = Punto2D(args[2], args[3])\n",
        "        else:\n",
        "            self._C = Punto2D()\n",
        "            self._P = Punto2D()"
      ],
      "metadata": {
        "id": "WYT9cGJHF-An"
      },
      "execution_count": null,
      "outputs": []
    },
    {
      "cell_type": "markdown",
      "source": [
        "Lo cual evita los inconvenientes que se tenían anteriormente:"
      ],
      "metadata": {
        "id": "XXfjh1NlJ8mz"
      }
    },
    {
      "cell_type": "code",
      "source": [
        "A = 'Punto2D(1,1)'  # No es objeto tipo Punto2D, sino una cadena\n",
        "B = (2,2)           # No es objeto tipo Punto2D, sino una tupla\n",
        "Q2 = CirculoP(A, B) # El constructor ya NO asignaría estos tipos de datos a C y P, respectivamente\n",
        "print(f'Q2\\n{Q2}')\n",
        "\n",
        "Q1 = CirculoP()\n",
        "print(f'Q1\\n{Q1}')\n",
        "Q1.modificaTuEstado('Q2.C', Q3.P)# Los atributos de Q1 ya NO serán ni cadena ni tupla\n",
        "print(f'Q1\\n{Q1}')\n",
        "\n",
        "Q3 = CirculoP()\n",
        "print(f'Q3\\n{Q3}')\n",
        "Q3.C = 'Q1.C'       # El atributo de Q3 ya NO será tupla\n",
        "Q3.P =  (4.5, 6.7)  # El atributo de Q3 ya NO será cadena\n",
        "print(f'Q3\\n{Q3}')\n",
        "\n",
        "Q1.pideleAlUsuarioTuEstado()  # El método ya NO arroja error porque ya tiene atributos Punto2D\n",
        "Q2.pideleAlUsuarioTuEstado()  # El método ya NO arroja error porque ya tiene atributos Punto2D\n",
        "print(f'Q1.P.x = {Q1.P.x}')   # El atributo P ya tiene x\n",
        "print(f'Q1.C.y = {Q1.C.y}')   # El atributo C ya tiene y\n",
        "print(f'Q2.P.x = {Q2.P.x}')   # El atributo P ya tiene x\n",
        "print(f'Q2.C.y = {Q2.C.y}')   # El atributo c ya tiene y\n",
        "print(f'Q3.P.x = {Q3.P.x}')   # El atributo P ya tiene x\n",
        "print(f'Q4.C.y = {Q3.C.y}')   # El atributo C ya tiene y"
      ],
      "metadata": {
        "id": "bRbupJQUJ73P"
      },
      "execution_count": null,
      "outputs": []
    }
  ]
}