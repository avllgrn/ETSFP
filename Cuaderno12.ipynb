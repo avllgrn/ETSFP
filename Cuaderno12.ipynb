{
  "nbformat": 4,
  "nbformat_minor": 0,
  "metadata": {
    "colab": {
      "provenance": [],
      "authorship_tag": "ABX9TyMje/0aLRMLqjOY3Oo22VdV"
    },
    "kernelspec": {
      "name": "python3",
      "display_name": "Python 3"
    },
    "language_info": {
      "name": "python"
    }
  },
  "cells": [
    {
      "cell_type": "markdown",
      "source": [
        "# Herencia"
      ],
      "metadata": {
        "id": "QV3k7S3_dty1"
      }
    },
    {
      "cell_type": "markdown",
      "source": [
        "## Superclase / clase Madre / clase Base"
      ],
      "metadata": {
        "id": "3t3agH9geKVf"
      }
    },
    {
      "cell_type": "markdown",
      "source": [
        "La capacidad que tiene una clase de transmitir todas sus características a otra es facilmente de implementar en Python.\n",
        "\n",
        "La siguiente clase:"
      ],
      "metadata": {
        "id": "UQ5lFGSveWxZ"
      }
    },
    {
      "cell_type": "code",
      "execution_count": null,
      "metadata": {
        "id": "ziLqn1A5dsvz"
      },
      "outputs": [],
      "source": [
        "class Cuadro:\n",
        "    def __init__(self, _lado=0.0) -> None:\n",
        "        self._lado = _lado\n",
        "        self.verificaTuEstado()\n",
        "\n",
        "    def __del__(self) -> None:\n",
        "        pass\n",
        "\n",
        "    @property\n",
        "    def lado(self):\n",
        "        return self._lado\n",
        "\n",
        "    @lado.setter\n",
        "    def lado(self, lado):\n",
        "        self._lado = lado\n",
        "        self.verificaTuEstado()\n",
        "\n",
        "    def __str__(self) -> str:\n",
        "        datos = f'Lado: {self._lado}\\n'\n",
        "        datos += f'Área: {self.dameTuArea()}\\n'\n",
        "        datos += f'Perímetro: {self.dameTuPerimetro()}\\n'\n",
        "        return datos\n",
        "\n",
        "    def pideleAlUsuarioTuEstado(self):\n",
        "        self._lado = input('Dame mi lado ')\n",
        "        self.verificaTuEstado()\n",
        "\n",
        "    def muestraTuEstado(self):\n",
        "        print(self)\n",
        "\n",
        "    def dameTuArea(self):\n",
        "        return self._lado**2\n",
        "\n",
        "    def dameTuPerimetro(self):\n",
        "        return self._lado*4\n",
        "\n",
        "    def verificaTuEstado(self):\n",
        "        try:\n",
        "            self._lado = float(self._lado)\n",
        "        except:\n",
        "            self._lado = 0.0\n",
        "        if self._lado<0:\n",
        "            self._lado = 0.0"
      ]
    },
    {
      "cell_type": "markdown",
      "source": [
        "con la que pueden instanciarse objetos que representen cuadros, como en el siguiente código:"
      ],
      "metadata": {
        "id": "mIwEQhzhe8tz"
      }
    },
    {
      "cell_type": "code",
      "source": [
        "C1 = Cuadro()\n",
        "print(f'C1')\n",
        "C1.muestraTuEstado()\n",
        "\n",
        "C2 = Cuadro('cuatro')\n",
        "print(f'C2\\n{C2}')\n",
        "\n",
        "C2.lado = 'ocho'\n",
        "print(f'C2\\n{C2}')\n",
        "\n",
        "C3 = Cuadro(3)\n",
        "print(f'C3\\n{C3}')\n",
        "C3.lado = 9\n",
        "print(f'C3\\n{C3}')"
      ],
      "metadata": {
        "id": "_KJvFOYSfIf8"
      },
      "execution_count": null,
      "outputs": []
    },
    {
      "cell_type": "markdown",
      "source": [
        "puede tomarse como base para diseñar otra que, tenga los mismos atributos y métodos que ésta; pero, que pueda tener nuevas características."
      ],
      "metadata": {
        "id": "OgwWhN8IfH6j"
      }
    },
    {
      "cell_type": "markdown",
      "source": [
        "## Subclase / clase Hija / clase Derivada"
      ],
      "metadata": {
        "id": "udfB3KrAf6RC"
      }
    },
    {
      "cell_type": "markdown",
      "source": [
        "Por ejemplo, la siguiente clase, sólo con escribir entre paréntesis el nombre de otra, recibirá de ella TODAS sus características:"
      ],
      "metadata": {
        "id": "JHIWcQ4mgHkD"
      }
    },
    {
      "cell_type": "code",
      "source": [
        "class Cubo (Cuadro):\n",
        "  pass"
      ],
      "metadata": {
        "id": "Cvm7bdbJgFMB"
      },
      "execution_count": null,
      "outputs": []
    },
    {
      "cell_type": "markdown",
      "source": [
        "Lo anterior expresa que la clase *Cubo* se deriva de la clase *Cuadro*. Lo cual implica que TODOS los atributos y TODOS los métodos (incluyendo las propiedades) de *Cuadro* los tiene ahora *Cubo*.\n",
        "\n",
        "El siguiente programa, donde se instancian objetos tipo *Cubo*, con la lase anterior, muestra como verdaderamente cada una de ellas tiene las mismas características de un objeto tipo *Cuadro*:"
      ],
      "metadata": {
        "id": "7KTsU3hQgbbJ"
      }
    },
    {
      "cell_type": "code",
      "source": [
        "Q1 = Cubo()\n",
        "print(f'Q1')\n",
        "Q1.muestraTuEstado()\n",
        "\n",
        "Q2 = Cubo('cuatro')\n",
        "print(f'Q2\\n{Q2}')\n",
        "\n",
        "Q2.lado = 'ocho'\n",
        "print(f'Q2\\n{Q2}')\n",
        "\n",
        "Q3 = Cubo(3)\n",
        "print(f'Q3\\n{Q3}')\n",
        "Q3.lado = 9\n",
        "print(f'Q3\\n{Q3}')"
      ],
      "metadata": {
        "id": "hkwP_VEyhDle"
      },
      "execution_count": null,
      "outputs": []
    },
    {
      "cell_type": "markdown",
      "source": [
        "Para agregarle característcas a la nueva clase, basta con definirlas. Es decir, si se reescribe la nueva clase de la forma siguiente:"
      ],
      "metadata": {
        "id": "3pjautEsh-Fc"
      }
    },
    {
      "cell_type": "code",
      "source": [
        "class Cubo (Cuadro):\n",
        "    def dameTuVolumen(self):\n",
        "        return self._lado**3\n",
        "\n",
        "    def __str__(self) -> str:\n",
        "        datos =  super().__str__()\n",
        "        datos += f'Volumen: {self.dameTuVolumen()}\\n'\n",
        "        return datos"
      ],
      "metadata": {
        "id": "AWSz8eZohJOG"
      },
      "execution_count": null,
      "outputs": []
    },
    {
      "cell_type": "markdown",
      "source": [
        "Ahora, las instancias de *Cubo* podrán mostrar tanto las caractarístcas de su clase madre (lado, área y perímetro) como la suya propia (volumen), que no tiene aquella:"
      ],
      "metadata": {
        "id": "pbMXBmj9invU"
      }
    },
    {
      "cell_type": "code",
      "source": [
        "Q1 = Cubo()\n",
        "print(f'Q1')\n",
        "Q1.muestraTuEstado()\n",
        "\n",
        "Q2 = Cubo('cuatro')\n",
        "print(f'Q2\\n{Q2}')\n",
        "\n",
        "Q2.lado = 'ocho'\n",
        "print(f'Q2\\n{Q2}')\n",
        "\n",
        "Q3 = Cubo(3)\n",
        "print(f'Q3\\n{Q3}')\n",
        "Q3.lado = 9\n",
        "print(f'Q3\\n{Q3}')"
      ],
      "metadata": {
        "id": "7Cpiz0rtkTYA"
      },
      "execution_count": null,
      "outputs": []
    },
    {
      "cell_type": "markdown",
      "source": [
        "## Constructor de Subclase"
      ],
      "metadata": {
        "id": "36g30OuTklGr"
      }
    },
    {
      "cell_type": "markdown",
      "source": [
        "Si se requiere mantener los atributos de la Superclase, y agregarle otros más a la Subclase, es indispensable invocar al constructor de las Superclase desde el constructor de la Sublcase. La manera en que se hace esto es a través del método super()\n",
        "\n",
        "En realidad, cualquier método de una Superclase puede ser invocado de este modo.\n",
        "\n",
        "A partir de la siguiente clase:"
      ],
      "metadata": {
        "id": "xZ6cNyY1kt7E"
      }
    },
    {
      "cell_type": "code",
      "source": [
        "class Punto2D:\n",
        "    def __init__(self, x=0.0, y=0.0):\n",
        "        self.x = float(x)\n",
        "        self.y = float(y)\n",
        "\n",
        "    def __del__(self):\n",
        "        pass\n",
        "\n",
        "    def __str__(self):\n",
        "        return f\"({self.x}, {self.y})\"\n",
        "\n",
        "    def pideleAlUsuarioTuEstado(self):\n",
        "        self.x = float(input(\"Dame mi x \"))\n",
        "        self.y = float(input(\"Dame mi y \"))\n",
        "\n",
        "    def muestraTuEstado(self):\n",
        "        print(self)\n",
        "\n",
        "    def modificaTuEstado(self,x,y):\n",
        "        self.x = float(x)\n",
        "        self.y = float(y)"
      ],
      "metadata": {
        "id": "9fC3PjdOkr4m"
      },
      "execution_count": null,
      "outputs": []
    },
    {
      "cell_type": "markdown",
      "source": [
        "puede derivarse la siguiente:"
      ],
      "metadata": {
        "id": "XEmv1HOjl8QY"
      }
    },
    {
      "cell_type": "code",
      "source": [
        "class Punto3D (Punto2D):\n",
        "    def __init__(self, x=0, y=0, z=0):\n",
        "        super().__init__(x, y)\n",
        "        self.z = float(z)\n",
        "\n",
        "    def __del__(self):\n",
        "        pass\n",
        "\n",
        "    def __str__(self):\n",
        "        return f'({self.x}, {self.y}, {self.z})'\n",
        "\n",
        "    def pideleAlUsuarioTuEstado(self):\n",
        "        super().pideleAlUsuarioTuEstado()\n",
        "        self.z = float(input('Dame mi z '))\n",
        "\n",
        "    def muestraTuEstado(self):\n",
        "        print(self)\n",
        "\n",
        "    def modificaTuEstado(self, x=0, y=0, z=0):\n",
        "        super().modificaTuEstado(x, y)\n",
        "        self.z = float(z)"
      ],
      "metadata": {
        "id": "FPsYt3HnlqWN"
      },
      "execution_count": null,
      "outputs": []
    },
    {
      "cell_type": "markdown",
      "source": [
        "Como puede notarse, el constructor de Cubo invoca al constructor de su Superclase, utilizando el método super(), en la línea 3.\n",
        "\n",
        "Lo anterior, provoca que se agreguen los atributos de la Superclase (x, y) a las instancias de la Subclase.\n",
        "\n",
        "Tras haber agregado lo atributos de la Superclase, el constructor de la Subclase agrega uno que la Superclase no tiene (z), en la línea 4.\n",
        "\n"
      ],
      "metadata": {
        "id": "1cZikJbymGr6"
      }
    },
    {
      "cell_type": "code",
      "source": [
        "P = Punto3D()\n",
        "print(f'P\\n{P}')"
      ],
      "metadata": {
        "id": "n97k83h0nJJs"
      },
      "execution_count": null,
      "outputs": []
    },
    {
      "cell_type": "markdown",
      "source": [
        "Del mismo modo, se implementa un nuevo método *pideleAlUsuarioTuEstado* porque el que se hereda de la Superclase únicamente pide dos atributos (x, y) de los tres que tiene la Subclase. Así pues, tras invocar, en la línea 13, al *pideleAlUsuarioTuEstado* con el método super(), se procede a pedir que se ingrese el valor del trecer atributo de la Subclase, en la línea 14:"
      ],
      "metadata": {
        "id": "IT2sxZO4nDr7"
      }
    },
    {
      "cell_type": "code",
      "source": [
        "P.pideleAlUsuarioTuEstado()\n",
        "\n",
        "print(f'P\\n{P}')"
      ],
      "metadata": {
        "id": "Zzx1kzTFmDnp"
      },
      "execution_count": null,
      "outputs": []
    },
    {
      "cell_type": "markdown",
      "source": [
        "El método de la Subclase que debe modificar cada atributo, DEBE recibir tres valores. Por eso, se implementa uno nuevo que invoca, en la línea 20, al de la Superclase (para que ella modifique los dos primeros (x, y)) y después se modifica el tercero, en la línea 21:"
      ],
      "metadata": {
        "id": "Rc3utUnQnZVX"
      }
    },
    {
      "cell_type": "code",
      "source": [
        "P.modificaTuEstado(4, 5, 6)\n",
        "print(f'P\\n{P}')"
      ],
      "metadata": {
        "id": "HpOu93UunVs7"
      },
      "execution_count": null,
      "outputs": []
    }
  ]
}